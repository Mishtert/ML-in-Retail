{
  "nbformat": 4,
  "nbformat_minor": 0,
  "metadata": {
    "colab": {
      "name": "Retail_Metrics.ipynb",
      "provenance": [],
      "collapsed_sections": [],
      "toc_visible": true,
      "include_colab_link": true
    },
    "kernelspec": {
      "name": "python3",
      "display_name": "Python 3"
    }
  },
  "cells": [
    {
      "cell_type": "markdown",
      "metadata": {
        "id": "view-in-github",
        "colab_type": "text"
      },
      "source": [
        "<a href=\"https://colab.research.google.com/github/Mishtert/ML-in-Retail/blob/master/Retail_Metrics.ipynb\" target=\"_parent\"><img src=\"https://colab.research.google.com/assets/colab-badge.svg\" alt=\"Open In Colab\"/></a>"
      ]
    },
    {
      "cell_type": "markdown",
      "metadata": {
        "id": "U4elebXXYqAj",
        "colab_type": "text"
      },
      "source": [
        "#**Load Libraries**"
      ]
    },
    {
      "cell_type": "code",
      "metadata": {
        "id": "ulmnAfpmYUMq",
        "colab_type": "code",
        "colab": {}
      },
      "source": [
        "from datetime import datetime, timedelta\n",
        "import pandas as pd\n",
        "%matplotlib inline\n",
        "import matplotlib.pyplot as plt\n",
        "import numpy as np\n",
        "import seaborn as sns\n",
        "from __future__ import division\n",
        "\n",
        "import chart_studio.plotly as py\n",
        "import plotly.offline as pyoff\n",
        "import plotly.graph_objs as go"
      ],
      "execution_count": 0,
      "outputs": []
    },
    {
      "cell_type": "markdown",
      "metadata": {
        "id": "FgsVtcPCdZ85",
        "colab_type": "text"
      },
      "source": [
        "**Set Plots Style**"
      ]
    },
    {
      "cell_type": "code",
      "metadata": {
        "id": "_WFwaDT3dd2f",
        "colab_type": "code",
        "colab": {}
      },
      "source": [
        "f, ax = plt.subplots(figsize=(15, 8))\n",
        "clr =sns.color_palette(\"RdBu_r\", 7)\n",
        "sns.set_style('darkgrid')\n",
        "sns.set_palette(clr)"
      ],
      "execution_count": 0,
      "outputs": []
    },
    {
      "cell_type": "markdown",
      "metadata": {
        "id": "WSd-VN9bYt3j",
        "colab_type": "text"
      },
      "source": [
        "#**Read Data**"
      ]
    },
    {
      "cell_type": "code",
      "metadata": {
        "id": "rHQV2YVaY2S7",
        "colab_type": "code",
        "outputId": "d1bc8445-8043-46d9-ca79-8f14b631bedb",
        "colab": {
          "base_uri": "https://localhost:8080/",
          "height": 529
        }
      },
      "source": [
        "tx_data = pd.read_csv('Retail.csv',encoding = 'unicode_escape')\n",
        "tx_data.head(10)"
      ],
      "execution_count": 0,
      "outputs": [
        {
          "output_type": "execute_result",
          "data": {
            "text/html": [
              "<div>\n",
              "<style scoped>\n",
              "    .dataframe tbody tr th:only-of-type {\n",
              "        vertical-align: middle;\n",
              "    }\n",
              "\n",
              "    .dataframe tbody tr th {\n",
              "        vertical-align: top;\n",
              "    }\n",
              "\n",
              "    .dataframe thead th {\n",
              "        text-align: right;\n",
              "    }\n",
              "</style>\n",
              "<table border=\"1\" class=\"dataframe\">\n",
              "  <thead>\n",
              "    <tr style=\"text-align: right;\">\n",
              "      <th></th>\n",
              "      <th>InvoiceNo</th>\n",
              "      <th>StockCode</th>\n",
              "      <th>Description</th>\n",
              "      <th>Quantity</th>\n",
              "      <th>InvoiceDate</th>\n",
              "      <th>UnitPrice</th>\n",
              "      <th>CustomerID</th>\n",
              "      <th>Country</th>\n",
              "    </tr>\n",
              "  </thead>\n",
              "  <tbody>\n",
              "    <tr>\n",
              "      <th>0</th>\n",
              "      <td>536365</td>\n",
              "      <td>85123A</td>\n",
              "      <td>WHITE HANGING HEART T-LIGHT HOLDER</td>\n",
              "      <td>6</td>\n",
              "      <td>12/1/2010 8:26</td>\n",
              "      <td>2.55</td>\n",
              "      <td>17850.0</td>\n",
              "      <td>United Kingdom</td>\n",
              "    </tr>\n",
              "    <tr>\n",
              "      <th>1</th>\n",
              "      <td>536365</td>\n",
              "      <td>71053</td>\n",
              "      <td>WHITE METAL LANTERN</td>\n",
              "      <td>6</td>\n",
              "      <td>12/1/2010 8:26</td>\n",
              "      <td>3.39</td>\n",
              "      <td>17850.0</td>\n",
              "      <td>United Kingdom</td>\n",
              "    </tr>\n",
              "    <tr>\n",
              "      <th>2</th>\n",
              "      <td>536365</td>\n",
              "      <td>84406B</td>\n",
              "      <td>CREAM CUPID HEARTS COAT HANGER</td>\n",
              "      <td>8</td>\n",
              "      <td>12/1/2010 8:26</td>\n",
              "      <td>2.75</td>\n",
              "      <td>17850.0</td>\n",
              "      <td>United Kingdom</td>\n",
              "    </tr>\n",
              "    <tr>\n",
              "      <th>3</th>\n",
              "      <td>536365</td>\n",
              "      <td>84029G</td>\n",
              "      <td>KNITTED UNION FLAG HOT WATER BOTTLE</td>\n",
              "      <td>6</td>\n",
              "      <td>12/1/2010 8:26</td>\n",
              "      <td>3.39</td>\n",
              "      <td>17850.0</td>\n",
              "      <td>United Kingdom</td>\n",
              "    </tr>\n",
              "    <tr>\n",
              "      <th>4</th>\n",
              "      <td>536365</td>\n",
              "      <td>84029E</td>\n",
              "      <td>RED WOOLLY HOTTIE WHITE HEART.</td>\n",
              "      <td>6</td>\n",
              "      <td>12/1/2010 8:26</td>\n",
              "      <td>3.39</td>\n",
              "      <td>17850.0</td>\n",
              "      <td>United Kingdom</td>\n",
              "    </tr>\n",
              "    <tr>\n",
              "      <th>5</th>\n",
              "      <td>536365</td>\n",
              "      <td>22752</td>\n",
              "      <td>SET 7 BABUSHKA NESTING BOXES</td>\n",
              "      <td>2</td>\n",
              "      <td>12/1/2010 8:26</td>\n",
              "      <td>7.65</td>\n",
              "      <td>17850.0</td>\n",
              "      <td>United Kingdom</td>\n",
              "    </tr>\n",
              "    <tr>\n",
              "      <th>6</th>\n",
              "      <td>536365</td>\n",
              "      <td>21730</td>\n",
              "      <td>GLASS STAR FROSTED T-LIGHT HOLDER</td>\n",
              "      <td>6</td>\n",
              "      <td>12/1/2010 8:26</td>\n",
              "      <td>4.25</td>\n",
              "      <td>17850.0</td>\n",
              "      <td>United Kingdom</td>\n",
              "    </tr>\n",
              "    <tr>\n",
              "      <th>7</th>\n",
              "      <td>536366</td>\n",
              "      <td>22633</td>\n",
              "      <td>HAND WARMER UNION JACK</td>\n",
              "      <td>6</td>\n",
              "      <td>12/1/2010 8:28</td>\n",
              "      <td>1.85</td>\n",
              "      <td>17850.0</td>\n",
              "      <td>United Kingdom</td>\n",
              "    </tr>\n",
              "    <tr>\n",
              "      <th>8</th>\n",
              "      <td>536366</td>\n",
              "      <td>22632</td>\n",
              "      <td>HAND WARMER RED POLKA DOT</td>\n",
              "      <td>6</td>\n",
              "      <td>12/1/2010 8:28</td>\n",
              "      <td>1.85</td>\n",
              "      <td>17850.0</td>\n",
              "      <td>United Kingdom</td>\n",
              "    </tr>\n",
              "    <tr>\n",
              "      <th>9</th>\n",
              "      <td>536367</td>\n",
              "      <td>84879</td>\n",
              "      <td>ASSORTED COLOUR BIRD ORNAMENT</td>\n",
              "      <td>32</td>\n",
              "      <td>12/1/2010 8:34</td>\n",
              "      <td>1.69</td>\n",
              "      <td>13047.0</td>\n",
              "      <td>United Kingdom</td>\n",
              "    </tr>\n",
              "  </tbody>\n",
              "</table>\n",
              "</div>"
            ],
            "text/plain": [
              "  InvoiceNo StockCode  ... CustomerID         Country\n",
              "0    536365    85123A  ...    17850.0  United Kingdom\n",
              "1    536365     71053  ...    17850.0  United Kingdom\n",
              "2    536365    84406B  ...    17850.0  United Kingdom\n",
              "3    536365    84029G  ...    17850.0  United Kingdom\n",
              "4    536365    84029E  ...    17850.0  United Kingdom\n",
              "5    536365     22752  ...    17850.0  United Kingdom\n",
              "6    536365     21730  ...    17850.0  United Kingdom\n",
              "7    536366     22633  ...    17850.0  United Kingdom\n",
              "8    536366     22632  ...    17850.0  United Kingdom\n",
              "9    536367     84879  ...    13047.0  United Kingdom\n",
              "\n",
              "[10 rows x 8 columns]"
            ]
          },
          "metadata": {
            "tags": []
          },
          "execution_count": 5
        }
      ]
    },
    {
      "cell_type": "markdown",
      "metadata": {
        "id": "jYNrCmhdZqER",
        "colab_type": "text"
      },
      "source": [
        "**Data Information**"
      ]
    },
    {
      "cell_type": "code",
      "metadata": {
        "id": "HaSYf8E4ZpuA",
        "colab_type": "code",
        "outputId": "079b144d-ad11-46f0-db51-dc965c2c95f6",
        "colab": {
          "base_uri": "https://localhost:8080/",
          "height": 238
        }
      },
      "source": [
        "tx_data.info()"
      ],
      "execution_count": 0,
      "outputs": [
        {
          "output_type": "stream",
          "text": [
            "<class 'pandas.core.frame.DataFrame'>\n",
            "RangeIndex: 188074 entries, 0 to 188073\n",
            "Data columns (total 8 columns):\n",
            "InvoiceNo      188074 non-null object\n",
            "StockCode      188074 non-null object\n",
            "Description    187311 non-null object\n",
            "Quantity       188074 non-null int64\n",
            "InvoiceDate    188074 non-null object\n",
            "UnitPrice      188074 non-null float64\n",
            "CustomerID     132166 non-null float64\n",
            "Country        188074 non-null object\n",
            "dtypes: float64(2), int64(1), object(5)\n",
            "memory usage: 11.5+ MB\n"
          ],
          "name": "stdout"
        }
      ]
    },
    {
      "cell_type": "code",
      "metadata": {
        "id": "7JdwVfzYZx6T",
        "colab_type": "code",
        "outputId": "2841af38-55a6-452a-a526-cbe8a195c8a6",
        "colab": {
          "base_uri": "https://localhost:8080/",
          "height": 34
        }
      },
      "source": [
        "tx_data.shape"
      ],
      "execution_count": 0,
      "outputs": [
        {
          "output_type": "execute_result",
          "data": {
            "text/plain": [
              "(188074, 8)"
            ]
          },
          "metadata": {
            "tags": []
          },
          "execution_count": 7
        }
      ]
    },
    {
      "cell_type": "markdown",
      "metadata": {
        "id": "ttpuToa3aNYB",
        "colab_type": "text"
      },
      "source": [
        "**Convert Invoice Date Column to Date**"
      ]
    },
    {
      "cell_type": "code",
      "metadata": {
        "id": "Fb10G7ffaRqV",
        "colab_type": "code",
        "colab": {}
      },
      "source": [
        "tx_data['InvoiceDate'] = pd.to_datetime(tx_data['InvoiceDate'])"
      ],
      "execution_count": 0,
      "outputs": []
    },
    {
      "cell_type": "code",
      "metadata": {
        "id": "zz_6HQzxaag4",
        "colab_type": "code",
        "outputId": "d999bb12-4b30-403b-cdc8-8072bfa5149e",
        "colab": {
          "base_uri": "https://localhost:8080/",
          "height": 136
        }
      },
      "source": [
        "tx_data['InvoiceDate'].describe()"
      ],
      "execution_count": 0,
      "outputs": [
        {
          "output_type": "execute_result",
          "data": {
            "text/plain": [
              "count                  188074\n",
              "unique                   8566\n",
              "top       2010-12-06 16:57:00\n",
              "freq                      675\n",
              "first     2010-12-01 08:26:00\n",
              "last      2011-05-12 18:19:00\n",
              "Name: InvoiceDate, dtype: object"
            ]
          },
          "metadata": {
            "tags": []
          },
          "execution_count": 9
        }
      ]
    },
    {
      "cell_type": "code",
      "metadata": {
        "id": "7F-zXPDiao0U",
        "colab_type": "code",
        "colab": {}
      },
      "source": [
        "tx_data['InvoiceYearMonth'] = tx_data['InvoiceDate'].map(lambda date: 100*date.year + date.month)"
      ],
      "execution_count": 0,
      "outputs": []
    },
    {
      "cell_type": "code",
      "metadata": {
        "id": "Askno0eLbGj_",
        "colab_type": "code",
        "outputId": "5640a609-f010-412d-a329-56bd736f2c9d",
        "colab": {
          "base_uri": "https://localhost:8080/",
          "height": 889
        }
      },
      "source": [
        "tx_data.head(10)"
      ],
      "execution_count": 0,
      "outputs": [
        {
          "output_type": "execute_result",
          "data": {
            "text/html": [
              "<div>\n",
              "<style scoped>\n",
              "    .dataframe tbody tr th:only-of-type {\n",
              "        vertical-align: middle;\n",
              "    }\n",
              "\n",
              "    .dataframe tbody tr th {\n",
              "        vertical-align: top;\n",
              "    }\n",
              "\n",
              "    .dataframe thead th {\n",
              "        text-align: right;\n",
              "    }\n",
              "</style>\n",
              "<table border=\"1\" class=\"dataframe\">\n",
              "  <thead>\n",
              "    <tr style=\"text-align: right;\">\n",
              "      <th></th>\n",
              "      <th>InvoiceNo</th>\n",
              "      <th>StockCode</th>\n",
              "      <th>Description</th>\n",
              "      <th>Quantity</th>\n",
              "      <th>InvoiceDate</th>\n",
              "      <th>UnitPrice</th>\n",
              "      <th>CustomerID</th>\n",
              "      <th>Country</th>\n",
              "      <th>InvoiceYearMonth</th>\n",
              "      <th>Revenue</th>\n",
              "    </tr>\n",
              "  </thead>\n",
              "  <tbody>\n",
              "    <tr>\n",
              "      <th>0</th>\n",
              "      <td>536365</td>\n",
              "      <td>85123A</td>\n",
              "      <td>WHITE HANGING HEART T-LIGHT HOLDER</td>\n",
              "      <td>6</td>\n",
              "      <td>2010-12-01 08:26:00</td>\n",
              "      <td>2.55</td>\n",
              "      <td>17850.0</td>\n",
              "      <td>United Kingdom</td>\n",
              "      <td>201012</td>\n",
              "      <td>15.30</td>\n",
              "    </tr>\n",
              "    <tr>\n",
              "      <th>1</th>\n",
              "      <td>536365</td>\n",
              "      <td>71053</td>\n",
              "      <td>WHITE METAL LANTERN</td>\n",
              "      <td>6</td>\n",
              "      <td>2010-12-01 08:26:00</td>\n",
              "      <td>3.39</td>\n",
              "      <td>17850.0</td>\n",
              "      <td>United Kingdom</td>\n",
              "      <td>201012</td>\n",
              "      <td>20.34</td>\n",
              "    </tr>\n",
              "    <tr>\n",
              "      <th>2</th>\n",
              "      <td>536365</td>\n",
              "      <td>84406B</td>\n",
              "      <td>CREAM CUPID HEARTS COAT HANGER</td>\n",
              "      <td>8</td>\n",
              "      <td>2010-12-01 08:26:00</td>\n",
              "      <td>2.75</td>\n",
              "      <td>17850.0</td>\n",
              "      <td>United Kingdom</td>\n",
              "      <td>201012</td>\n",
              "      <td>22.00</td>\n",
              "    </tr>\n",
              "    <tr>\n",
              "      <th>3</th>\n",
              "      <td>536365</td>\n",
              "      <td>84029G</td>\n",
              "      <td>KNITTED UNION FLAG HOT WATER BOTTLE</td>\n",
              "      <td>6</td>\n",
              "      <td>2010-12-01 08:26:00</td>\n",
              "      <td>3.39</td>\n",
              "      <td>17850.0</td>\n",
              "      <td>United Kingdom</td>\n",
              "      <td>201012</td>\n",
              "      <td>20.34</td>\n",
              "    </tr>\n",
              "    <tr>\n",
              "      <th>4</th>\n",
              "      <td>536365</td>\n",
              "      <td>84029E</td>\n",
              "      <td>RED WOOLLY HOTTIE WHITE HEART.</td>\n",
              "      <td>6</td>\n",
              "      <td>2010-12-01 08:26:00</td>\n",
              "      <td>3.39</td>\n",
              "      <td>17850.0</td>\n",
              "      <td>United Kingdom</td>\n",
              "      <td>201012</td>\n",
              "      <td>20.34</td>\n",
              "    </tr>\n",
              "    <tr>\n",
              "      <th>5</th>\n",
              "      <td>536365</td>\n",
              "      <td>22752</td>\n",
              "      <td>SET 7 BABUSHKA NESTING BOXES</td>\n",
              "      <td>2</td>\n",
              "      <td>2010-12-01 08:26:00</td>\n",
              "      <td>7.65</td>\n",
              "      <td>17850.0</td>\n",
              "      <td>United Kingdom</td>\n",
              "      <td>201012</td>\n",
              "      <td>15.30</td>\n",
              "    </tr>\n",
              "    <tr>\n",
              "      <th>6</th>\n",
              "      <td>536365</td>\n",
              "      <td>21730</td>\n",
              "      <td>GLASS STAR FROSTED T-LIGHT HOLDER</td>\n",
              "      <td>6</td>\n",
              "      <td>2010-12-01 08:26:00</td>\n",
              "      <td>4.25</td>\n",
              "      <td>17850.0</td>\n",
              "      <td>United Kingdom</td>\n",
              "      <td>201012</td>\n",
              "      <td>25.50</td>\n",
              "    </tr>\n",
              "    <tr>\n",
              "      <th>7</th>\n",
              "      <td>536366</td>\n",
              "      <td>22633</td>\n",
              "      <td>HAND WARMER UNION JACK</td>\n",
              "      <td>6</td>\n",
              "      <td>2010-12-01 08:28:00</td>\n",
              "      <td>1.85</td>\n",
              "      <td>17850.0</td>\n",
              "      <td>United Kingdom</td>\n",
              "      <td>201012</td>\n",
              "      <td>11.10</td>\n",
              "    </tr>\n",
              "    <tr>\n",
              "      <th>8</th>\n",
              "      <td>536366</td>\n",
              "      <td>22632</td>\n",
              "      <td>HAND WARMER RED POLKA DOT</td>\n",
              "      <td>6</td>\n",
              "      <td>2010-12-01 08:28:00</td>\n",
              "      <td>1.85</td>\n",
              "      <td>17850.0</td>\n",
              "      <td>United Kingdom</td>\n",
              "      <td>201012</td>\n",
              "      <td>11.10</td>\n",
              "    </tr>\n",
              "    <tr>\n",
              "      <th>9</th>\n",
              "      <td>536367</td>\n",
              "      <td>84879</td>\n",
              "      <td>ASSORTED COLOUR BIRD ORNAMENT</td>\n",
              "      <td>32</td>\n",
              "      <td>2010-12-01 08:34:00</td>\n",
              "      <td>1.69</td>\n",
              "      <td>13047.0</td>\n",
              "      <td>United Kingdom</td>\n",
              "      <td>201012</td>\n",
              "      <td>54.08</td>\n",
              "    </tr>\n",
              "  </tbody>\n",
              "</table>\n",
              "</div>"
            ],
            "text/plain": [
              "  InvoiceNo StockCode  ... InvoiceYearMonth  Revenue\n",
              "0    536365    85123A  ...           201012    15.30\n",
              "1    536365     71053  ...           201012    20.34\n",
              "2    536365    84406B  ...           201012    22.00\n",
              "3    536365    84029G  ...           201012    20.34\n",
              "4    536365    84029E  ...           201012    20.34\n",
              "5    536365     22752  ...           201012    15.30\n",
              "6    536365     21730  ...           201012    25.50\n",
              "7    536366     22633  ...           201012    11.10\n",
              "8    536366     22632  ...           201012    11.10\n",
              "9    536367     84879  ...           201012    54.08\n",
              "\n",
              "[10 rows x 10 columns]"
            ]
          },
          "metadata": {
            "tags": []
          },
          "execution_count": 14
        }
      ]
    },
    {
      "cell_type": "markdown",
      "metadata": {
        "id": "pxV64V2xbgNZ",
        "colab_type": "text"
      },
      "source": [
        "**Create Revenue Column**"
      ]
    },
    {
      "cell_type": "code",
      "metadata": {
        "id": "ZmhBaRAZbZ5D",
        "colab_type": "code",
        "colab": {}
      },
      "source": [
        "tx_data['Revenue'] = tx_data['UnitPrice'] * tx_data['Quantity']"
      ],
      "execution_count": 0,
      "outputs": []
    },
    {
      "cell_type": "markdown",
      "metadata": {
        "id": "2WHMkGxcbwh7",
        "colab_type": "text"
      },
      "source": [
        "Aggregate revenue by year/month"
      ]
    },
    {
      "cell_type": "code",
      "metadata": {
        "id": "SQJQDnQpbvw6",
        "colab_type": "code",
        "outputId": "c7532f70-6124-4a80-8971-6324bc84b1b5",
        "colab": {
          "base_uri": "https://localhost:8080/",
          "height": 153
        }
      },
      "source": [
        "tx_data.groupby('InvoiceYearMonth')['Revenue'].sum().round(2)"
      ],
      "execution_count": 0,
      "outputs": [
        {
          "output_type": "execute_result",
          "data": {
            "text/plain": [
              "InvoiceYearMonth\n",
              "201012    748957.02\n",
              "201101    560000.26\n",
              "201102    498062.65\n",
              "201103    683267.08\n",
              "201104    493207.12\n",
              "201105    298959.86\n",
              "Name: Revenue, dtype: float64"
            ]
          },
          "metadata": {
            "tags": []
          },
          "execution_count": 16
        }
      ]
    },
    {
      "cell_type": "code",
      "metadata": {
        "id": "siE56nBjcKZZ",
        "colab_type": "code",
        "colab": {}
      },
      "source": [
        "tx_revenue = tx_data.groupby(['InvoiceYearMonth'])['Revenue'].sum().reset_index()\n",
        "tx_revenue"
      ],
      "execution_count": 0,
      "outputs": []
    },
    {
      "cell_type": "markdown",
      "metadata": {
        "id": "Kv7F6Sn8ckXi",
        "colab_type": "text"
      },
      "source": [
        "Visualize Invoice Over a time period"
      ]
    },
    {
      "cell_type": "code",
      "metadata": {
        "id": "68zz5Mlicnw_",
        "colab_type": "code",
        "outputId": "86c9fac7-b725-4362-fb7d-fa28ebc68126",
        "colab": {
          "base_uri": "https://localhost:8080/",
          "height": 312
        }
      },
      "source": [
        "ax = sns.lineplot(x=tx_revenue['InvoiceYearMonth'],\n",
        "             y=tx_revenue['Revenue'],\n",
        "             palette = clr)\n",
        "plt.title(\"Revenue vs. Timeperiod\")\n",
        "plt.ylabel(\"Revenue\")\n",
        "plt.xlabel(\"Year/Month\")"
      ],
      "execution_count": 0,
      "outputs": [
        {
          "output_type": "execute_result",
          "data": {
            "text/plain": [
              "Text(0.5, 0, 'Year/Month')"
            ]
          },
          "metadata": {
            "tags": []
          },
          "execution_count": 62
        },
        {
          "output_type": "display_data",
          "data": {
            "image/png": "[encoded data removed]",
            "text/plain": [
              "<Figure size 432x288 with 1 Axes>"
            ]
          },
          "metadata": {
            "tags": []
          }
        }
      ]
    },
    {
      "cell_type": "markdown",
      "metadata": {
        "id": "9HAIz0Iie5_4",
        "colab_type": "text"
      },
      "source": [
        "Monthly Revenue Growth Rate"
      ]
    },
    {
      "cell_type": "code",
      "metadata": {
        "id": "Y7Lhv8Gne66z",
        "colab_type": "code",
        "outputId": "ab0686f8-9b85-4781-dad1-4a5f99f1c23b",
        "colab": {
          "base_uri": "https://localhost:8080/",
          "height": 204
        }
      },
      "source": [
        "tx_revenue['MonthlyGrowth'] = tx_revenue['Revenue'].pct_change()\n",
        "tx_revenue.head()"
      ],
      "execution_count": 0,
      "outputs": [
        {
          "output_type": "execute_result",
          "data": {
            "text/html": [
              "<div>\n",
              "<style scoped>\n",
              "    .dataframe tbody tr th:only-of-type {\n",
              "        vertical-align: middle;\n",
              "    }\n",
              "\n",
              "    .dataframe tbody tr th {\n",
              "        vertical-align: top;\n",
              "    }\n",
              "\n",
              "    .dataframe thead th {\n",
              "        text-align: right;\n",
              "    }\n",
              "</style>\n",
              "<table border=\"1\" class=\"dataframe\">\n",
              "  <thead>\n",
              "    <tr style=\"text-align: right;\">\n",
              "      <th></th>\n",
              "      <th>InvoiceYearMonth</th>\n",
              "      <th>Revenue</th>\n",
              "      <th>MonthlyGrowth</th>\n",
              "    </tr>\n",
              "  </thead>\n",
              "  <tbody>\n",
              "    <tr>\n",
              "      <th>0</th>\n",
              "      <td>201012</td>\n",
              "      <td>748957.020</td>\n",
              "      <td>NaN</td>\n",
              "    </tr>\n",
              "    <tr>\n",
              "      <th>1</th>\n",
              "      <td>201101</td>\n",
              "      <td>560000.260</td>\n",
              "      <td>-0.252293</td>\n",
              "    </tr>\n",
              "    <tr>\n",
              "      <th>2</th>\n",
              "      <td>201102</td>\n",
              "      <td>498062.650</td>\n",
              "      <td>-0.110603</td>\n",
              "    </tr>\n",
              "    <tr>\n",
              "      <th>3</th>\n",
              "      <td>201103</td>\n",
              "      <td>683267.080</td>\n",
              "      <td>0.371850</td>\n",
              "    </tr>\n",
              "    <tr>\n",
              "      <th>4</th>\n",
              "      <td>201104</td>\n",
              "      <td>493207.121</td>\n",
              "      <td>-0.278163</td>\n",
              "    </tr>\n",
              "  </tbody>\n",
              "</table>\n",
              "</div>"
            ],
            "text/plain": [
              "   InvoiceYearMonth     Revenue  MonthlyGrowth\n",
              "0            201012  748957.020            NaN\n",
              "1            201101  560000.260      -0.252293\n",
              "2            201102  498062.650      -0.110603\n",
              "3            201103  683267.080       0.371850\n",
              "4            201104  493207.121      -0.278163"
            ]
          },
          "metadata": {
            "tags": []
          },
          "execution_count": 23
        }
      ]
    },
    {
      "cell_type": "markdown",
      "metadata": {
        "id": "NC92Mg-ofzyN",
        "colab_type": "text"
      },
      "source": [
        "plotting growth rate"
      ]
    },
    {
      "cell_type": "code",
      "metadata": {
        "id": "QiEhzF8qf2rv",
        "colab_type": "code",
        "outputId": "8ec7b053-878a-4b8c-ad07-b04b47feb95d",
        "colab": {
          "base_uri": "https://localhost:8080/",
          "height": 312
        }
      },
      "source": [
        "ax = sns.barplot(x=tx_revenue.query(\"InvoiceYearMonth < 201112\")['InvoiceYearMonth'],\n",
        "             y=tx_revenue.query(\"InvoiceYearMonth < 201112\")['MonthlyGrowth'],\n",
        "             palette = clr)\n",
        "plt.title(\"Revenue vs. Time Period\")\n",
        "plt.ylabel(\"Revenue\")\n",
        "plt.xlabel(\"Year/Month\")"
      ],
      "execution_count": 0,
      "outputs": [
        {
          "output_type": "execute_result",
          "data": {
            "text/plain": [
              "Text(0.5, 0, 'Year/Month')"
            ]
          },
          "metadata": {
            "tags": []
          },
          "execution_count": 34
        },
        {
          "output_type": "display_data",
          "data": {
            "image/png": "[encoded data removed]",
            "text/plain": [
              "<Figure size 432x288 with 1 Axes>"
            ]
          },
          "metadata": {
            "tags": []
          }
        }
      ]
    },
    {
      "cell_type": "markdown",
      "metadata": {
        "id": "ALVOwYzpgkaV",
        "colab_type": "text"
      },
      "source": [
        "**Monthly Active Customers**"
      ]
    },
    {
      "cell_type": "code",
      "metadata": {
        "id": "L7gLn8Q_gl2k",
        "colab_type": "code",
        "colab": {}
      },
      "source": [
        "tx_data.groupby('Country')['Revenue'].sum().sort_values(ascending=False).astype(int)"
      ],
      "execution_count": 0,
      "outputs": []
    },
    {
      "cell_type": "markdown",
      "metadata": {
        "id": "IDWPGv5Cg38G",
        "colab_type": "text"
      },
      "source": [
        "Performing the analysis only on UK customers"
      ]
    },
    {
      "cell_type": "code",
      "metadata": {
        "id": "EWiyHsHMg6g3",
        "colab_type": "code",
        "colab": {}
      },
      "source": [
        "tx_uk = tx_data.query(\"Country=='United Kingdom'\").reset_index(drop=True)\n",
        "tx_uk.head()"
      ],
      "execution_count": 0,
      "outputs": []
    },
    {
      "cell_type": "markdown",
      "metadata": {
        "id": "CV8f03C7hCcq",
        "colab_type": "text"
      },
      "source": [
        "Find monthly active users"
      ]
    },
    {
      "cell_type": "code",
      "metadata": {
        "id": "02yo3410hGVz",
        "colab_type": "code",
        "outputId": "e8e7de3c-3062-4826-e0cb-2b29ac361622",
        "colab": {
          "base_uri": "https://localhost:8080/",
          "height": 235
        }
      },
      "source": [
        "tx_monthly_active = tx_uk.groupby('InvoiceYearMonth')['CustomerID'].nunique().reset_index()\n",
        "tx_monthly_active"
      ],
      "execution_count": 0,
      "outputs": [
        {
          "output_type": "execute_result",
          "data": {
            "text/html": [
              "<div>\n",
              "<style scoped>\n",
              "    .dataframe tbody tr th:only-of-type {\n",
              "        vertical-align: middle;\n",
              "    }\n",
              "\n",
              "    .dataframe tbody tr th {\n",
              "        vertical-align: top;\n",
              "    }\n",
              "\n",
              "    .dataframe thead th {\n",
              "        text-align: right;\n",
              "    }\n",
              "</style>\n",
              "<table border=\"1\" class=\"dataframe\">\n",
              "  <thead>\n",
              "    <tr style=\"text-align: right;\">\n",
              "      <th></th>\n",
              "      <th>InvoiceYearMonth</th>\n",
              "      <th>CustomerID</th>\n",
              "    </tr>\n",
              "  </thead>\n",
              "  <tbody>\n",
              "    <tr>\n",
              "      <th>0</th>\n",
              "      <td>NaN</td>\n",
              "      <td>NaN</td>\n",
              "    </tr>\n",
              "    <tr>\n",
              "      <th>1</th>\n",
              "      <td>0.000443</td>\n",
              "      <td>-0.214696</td>\n",
              "    </tr>\n",
              "    <tr>\n",
              "      <th>2</th>\n",
              "      <td>0.000005</td>\n",
              "      <td>0.043860</td>\n",
              "    </tr>\n",
              "    <tr>\n",
              "      <th>3</th>\n",
              "      <td>0.000005</td>\n",
              "      <td>0.292717</td>\n",
              "    </tr>\n",
              "    <tr>\n",
              "      <th>4</th>\n",
              "      <td>0.000005</td>\n",
              "      <td>-0.114843</td>\n",
              "    </tr>\n",
              "    <tr>\n",
              "      <th>5</th>\n",
              "      <td>0.000005</td>\n",
              "      <td>-0.391677</td>\n",
              "    </tr>\n",
              "  </tbody>\n",
              "</table>\n",
              "</div>"
            ],
            "text/plain": [
              "   InvoiceYearMonth  CustomerID\n",
              "0               NaN         NaN\n",
              "1          0.000443   -0.214696\n",
              "2          0.000005    0.043860\n",
              "3          0.000005    0.292717\n",
              "4          0.000005   -0.114843\n",
              "5          0.000005   -0.391677"
            ]
          },
          "metadata": {
            "tags": []
          },
          "execution_count": 36
        }
      ]
    },
    {
      "cell_type": "markdown",
      "metadata": {
        "id": "Y3luctxnhQdR",
        "colab_type": "text"
      },
      "source": [
        "**Visualize Active Customers by TimePeriod**"
      ]
    },
    {
      "cell_type": "code",
      "metadata": {
        "id": "fiZsvnOkhXGk",
        "colab_type": "code",
        "outputId": "25f0d16e-ce7f-4ff1-9cd7-65d6675867a1",
        "colab": {
          "base_uri": "https://localhost:8080/",
          "height": 312
        }
      },
      "source": [
        "ax = sns.barplot(x=tx_monthly_active['InvoiceYearMonth'],\n",
        "             y=tx_monthly_active['CustomerID'],\n",
        "             palette = clr)\n",
        "plt.title(\"Revenue vs. Time Period\")\n",
        "plt.ylabel(\"Revenue\")\n",
        "plt.xlabel(\"Year/Month\")"
      ],
      "execution_count": 0,
      "outputs": [
        {
          "output_type": "execute_result",
          "data": {
            "text/plain": [
              "Text(0.5, 0, 'Year/Month')"
            ]
          },
          "metadata": {
            "tags": []
          },
          "execution_count": 35
        },
        {
          "output_type": "display_data",
          "data": {
            "image/png": "[encoded data removed]",
            "text/plain": [
              "<Figure size 432x288 with 1 Axes>"
            ]
          },
          "metadata": {
            "tags": []
          }
        }
      ]
    },
    {
      "cell_type": "markdown",
      "metadata": {
        "id": "FpO8fm3FiIjf",
        "colab_type": "text"
      },
      "source": [
        "**Monthly Order Count**"
      ]
    },
    {
      "cell_type": "code",
      "metadata": {
        "id": "4eGAbEEXiKNP",
        "colab_type": "code",
        "outputId": "ddedea74-3a5b-4900-e564-c56a52f002d4",
        "colab": {
          "base_uri": "https://localhost:8080/",
          "height": 235
        }
      },
      "source": [
        "tx_monthly_sales = tx_uk.groupby('InvoiceYearMonth')['Quantity'].sum().reset_index()\n",
        "tx_monthly_sales"
      ],
      "execution_count": 0,
      "outputs": [
        {
          "output_type": "execute_result",
          "data": {
            "text/html": [
              "<div>\n",
              "<style scoped>\n",
              "    .dataframe tbody tr th:only-of-type {\n",
              "        vertical-align: middle;\n",
              "    }\n",
              "\n",
              "    .dataframe tbody tr th {\n",
              "        vertical-align: top;\n",
              "    }\n",
              "\n",
              "    .dataframe thead th {\n",
              "        text-align: right;\n",
              "    }\n",
              "</style>\n",
              "<table border=\"1\" class=\"dataframe\">\n",
              "  <thead>\n",
              "    <tr style=\"text-align: right;\">\n",
              "      <th></th>\n",
              "      <th>InvoiceYearMonth</th>\n",
              "      <th>Quantity</th>\n",
              "    </tr>\n",
              "  </thead>\n",
              "  <tbody>\n",
              "    <tr>\n",
              "      <th>0</th>\n",
              "      <td>201012</td>\n",
              "      <td>298101</td>\n",
              "    </tr>\n",
              "    <tr>\n",
              "      <th>1</th>\n",
              "      <td>201101</td>\n",
              "      <td>237381</td>\n",
              "    </tr>\n",
              "    <tr>\n",
              "      <th>2</th>\n",
              "      <td>201102</td>\n",
              "      <td>225641</td>\n",
              "    </tr>\n",
              "    <tr>\n",
              "      <th>3</th>\n",
              "      <td>201103</td>\n",
              "      <td>279843</td>\n",
              "    </tr>\n",
              "    <tr>\n",
              "      <th>4</th>\n",
              "      <td>201104</td>\n",
              "      <td>257666</td>\n",
              "    </tr>\n",
              "    <tr>\n",
              "      <th>5</th>\n",
              "      <td>201105</td>\n",
              "      <td>122593</td>\n",
              "    </tr>\n",
              "  </tbody>\n",
              "</table>\n",
              "</div>"
            ],
            "text/plain": [
              "   InvoiceYearMonth  Quantity\n",
              "0            201012    298101\n",
              "1            201101    237381\n",
              "2            201102    225641\n",
              "3            201103    279843\n",
              "4            201104    257666\n",
              "5            201105    122593"
            ]
          },
          "metadata": {
            "tags": []
          },
          "execution_count": 37
        }
      ]
    },
    {
      "cell_type": "markdown",
      "metadata": {
        "id": "Ngx5FJc2inx_",
        "colab_type": "text"
      },
      "source": [
        "Visualize the order count"
      ]
    },
    {
      "cell_type": "code",
      "metadata": {
        "id": "pYykcFcFippz",
        "colab_type": "code",
        "outputId": "8af911d8-da8b-48a0-9a76-1cce76d2aaa0",
        "colab": {
          "base_uri": "https://localhost:8080/",
          "height": 312
        }
      },
      "source": [
        "ax = sns.barplot(x=tx_monthly_sales['InvoiceYearMonth'],\n",
        "             y=tx_monthly_sales['Quantity'],\n",
        "             palette = clr)\n",
        "plt.title(\"Sales vs. Time Period\")\n",
        "plt.ylabel(\"Sales Order\")\n",
        "plt.xlabel(\"Year/Month\")"
      ],
      "execution_count": 0,
      "outputs": [
        {
          "output_type": "execute_result",
          "data": {
            "text/plain": [
              "Text(0.5, 0, 'Year/Month')"
            ]
          },
          "metadata": {
            "tags": []
          },
          "execution_count": 40
        },
        {
          "output_type": "display_data",
          "data": {
            "image/png": "[encoded data removed]",
            "text/plain": [
              "<Figure size 432x288 with 1 Axes>"
            ]
          },
          "metadata": {
            "tags": []
          }
        }
      ]
    },
    {
      "cell_type": "markdown",
      "metadata": {
        "id": "m65h4D4Pi-ul",
        "colab_type": "text"
      },
      "source": [
        "Average Monthly Sales"
      ]
    },
    {
      "cell_type": "code",
      "metadata": {
        "id": "F9A9CGqnjAZx",
        "colab_type": "code",
        "outputId": "4fddd6da-091e-40cf-d82e-73c024dd016c",
        "colab": {
          "base_uri": "https://localhost:8080/",
          "height": 34
        }
      },
      "source": [
        "tx_monthly_sales['Quantity'].mean()"
      ],
      "execution_count": 0,
      "outputs": [
        {
          "output_type": "execute_result",
          "data": {
            "text/plain": [
              "236870.83333333334"
            ]
          },
          "metadata": {
            "tags": []
          },
          "execution_count": 41
        }
      ]
    },
    {
      "cell_type": "markdown",
      "metadata": {
        "id": "TVye5nQ3jF11",
        "colab_type": "text"
      },
      "source": [
        "Oder Average"
      ]
    },
    {
      "cell_type": "code",
      "metadata": {
        "id": "3riBeIkcjHa8",
        "colab_type": "code",
        "outputId": "9d005f3d-d58e-4a9f-98c7-12d1ab10b751",
        "colab": {
          "base_uri": "https://localhost:8080/",
          "height": 235
        }
      },
      "source": [
        "tx_monthly_order_avg = tx_uk.groupby('InvoiceYearMonth')['Revenue'].mean().reset_index()\n",
        "tx_monthly_order_avg"
      ],
      "execution_count": 0,
      "outputs": [
        {
          "output_type": "execute_result",
          "data": {
            "text/html": [
              "<div>\n",
              "<style scoped>\n",
              "    .dataframe tbody tr th:only-of-type {\n",
              "        vertical-align: middle;\n",
              "    }\n",
              "\n",
              "    .dataframe tbody tr th {\n",
              "        vertical-align: top;\n",
              "    }\n",
              "\n",
              "    .dataframe thead th {\n",
              "        text-align: right;\n",
              "    }\n",
              "</style>\n",
              "<table border=\"1\" class=\"dataframe\">\n",
              "  <thead>\n",
              "    <tr style=\"text-align: right;\">\n",
              "      <th></th>\n",
              "      <th>InvoiceYearMonth</th>\n",
              "      <th>Revenue</th>\n",
              "    </tr>\n",
              "  </thead>\n",
              "  <tbody>\n",
              "    <tr>\n",
              "      <th>0</th>\n",
              "      <td>201012</td>\n",
              "      <td>16.865860</td>\n",
              "    </tr>\n",
              "    <tr>\n",
              "      <th>1</th>\n",
              "      <td>201101</td>\n",
              "      <td>13.614680</td>\n",
              "    </tr>\n",
              "    <tr>\n",
              "      <th>2</th>\n",
              "      <td>201102</td>\n",
              "      <td>16.093027</td>\n",
              "    </tr>\n",
              "    <tr>\n",
              "      <th>3</th>\n",
              "      <td>201103</td>\n",
              "      <td>16.716166</td>\n",
              "    </tr>\n",
              "    <tr>\n",
              "      <th>4</th>\n",
              "      <td>201104</td>\n",
              "      <td>15.773380</td>\n",
              "    </tr>\n",
              "    <tr>\n",
              "      <th>5</th>\n",
              "      <td>201105</td>\n",
              "      <td>16.203417</td>\n",
              "    </tr>\n",
              "  </tbody>\n",
              "</table>\n",
              "</div>"
            ],
            "text/plain": [
              "   InvoiceYearMonth    Revenue\n",
              "0            201012  16.865860\n",
              "1            201101  13.614680\n",
              "2            201102  16.093027\n",
              "3            201103  16.716166\n",
              "4            201104  15.773380\n",
              "5            201105  16.203417"
            ]
          },
          "metadata": {
            "tags": []
          },
          "execution_count": 42
        }
      ]
    },
    {
      "cell_type": "markdown",
      "metadata": {
        "id": "LiCxkek8jXWk",
        "colab_type": "text"
      },
      "source": [
        "Visualize Order Value Overtime"
      ]
    },
    {
      "cell_type": "code",
      "metadata": {
        "id": "dZA6PE4ujV5r",
        "colab_type": "code",
        "outputId": "b9d63bbb-e2b0-48a4-95c1-8e547ace6b28",
        "colab": {
          "base_uri": "https://localhost:8080/",
          "height": 312
        }
      },
      "source": [
        "ax = sns.barplot(x=tx_monthly_order_avg['InvoiceYearMonth'],\n",
        "             y=tx_monthly_order_avg['Revenue'],\n",
        "             palette = clr)\n",
        "plt.title(\"Sales vs. Time Period\")\n",
        "plt.ylabel(\"Sales Order\")\n",
        "plt.xlabel(\"Year/Month\")"
      ],
      "execution_count": 0,
      "outputs": [
        {
          "output_type": "execute_result",
          "data": {
            "text/plain": [
              "Text(0.5, 0, 'Year/Month')"
            ]
          },
          "metadata": {
            "tags": []
          },
          "execution_count": 43
        },
        {
          "output_type": "display_data",
          "data": {
            "image/png": "[encoded data removed]",
            "text/plain": [
              "<Figure size 432x288 with 1 Axes>"
            ]
          },
          "metadata": {
            "tags": []
          }
        }
      ]
    },
    {
      "cell_type": "markdown",
      "metadata": {
        "id": "bcog0c08j8vY",
        "colab_type": "text"
      },
      "source": [
        "Average Order Value"
      ]
    },
    {
      "cell_type": "code",
      "metadata": {
        "id": "uTXH7Ndcj_jv",
        "colab_type": "code",
        "outputId": "9593eeac-76a4-4e77-8f55-f9b0386e6ae6",
        "colab": {
          "base_uri": "https://localhost:8080/",
          "height": 34
        }
      },
      "source": [
        "tx_monthly_order_avg.Revenue.mean()"
      ],
      "execution_count": 0,
      "outputs": [
        {
          "output_type": "execute_result",
          "data": {
            "text/plain": [
              "15.877755112167712"
            ]
          },
          "metadata": {
            "tags": []
          },
          "execution_count": 44
        }
      ]
    },
    {
      "cell_type": "markdown",
      "metadata": {
        "id": "B-ioQCKAkQDI",
        "colab_type": "text"
      },
      "source": [
        "**New Customer Ratio**\n",
        "\n",
        "First we should define what is a new customer. In our dataset, we can assume a new customer is whoever did his/her first purchase in the time window we defined. We will do it monthly for this example."
      ]
    },
    {
      "cell_type": "code",
      "metadata": {
        "id": "7Dxgm1O8kRW6",
        "colab_type": "code",
        "outputId": "9c9fa9e4-33fd-4b26-d9f7-ad97e04923d4",
        "colab": {
          "base_uri": "https://localhost:8080/",
          "height": 419
        }
      },
      "source": [
        "tx_uk.info()\n",
        "tx_min_purchase = tx_uk.groupby('CustomerID').InvoiceDate.min().reset_index()\n",
        "tx_min_purchase.columns = ['CustomerID','MinPurchaseDate']\n",
        "tx_min_purchase['MinPurchaseYearMonth'] = tx_min_purchase['MinPurchaseDate'].map(lambda date: 100*date.year + date.month)\n",
        "tx_min_purchase"
      ],
      "execution_count": 0,
      "outputs": [
        {
          "output_type": "execute_result",
          "data": {
            "text/html": [
              "<div>\n",
              "<style scoped>\n",
              "    .dataframe tbody tr th:only-of-type {\n",
              "        vertical-align: middle;\n",
              "    }\n",
              "\n",
              "    .dataframe tbody tr th {\n",
              "        vertical-align: top;\n",
              "    }\n",
              "\n",
              "    .dataframe thead th {\n",
              "        text-align: right;\n",
              "    }\n",
              "</style>\n",
              "<table border=\"1\" class=\"dataframe\">\n",
              "  <thead>\n",
              "    <tr style=\"text-align: right;\">\n",
              "      <th></th>\n",
              "      <th>CustomerID</th>\n",
              "      <th>MinPurchaseDate</th>\n",
              "      <th>MinPurchaseYearMonth</th>\n",
              "    </tr>\n",
              "  </thead>\n",
              "  <tbody>\n",
              "    <tr>\n",
              "      <th>0</th>\n",
              "      <td>12346.0</td>\n",
              "      <td>2011-01-18 10:01:00</td>\n",
              "      <td>201101</td>\n",
              "    </tr>\n",
              "    <tr>\n",
              "      <th>1</th>\n",
              "      <td>12747.0</td>\n",
              "      <td>2010-12-05 15:38:00</td>\n",
              "      <td>201012</td>\n",
              "    </tr>\n",
              "    <tr>\n",
              "      <th>2</th>\n",
              "      <td>12748.0</td>\n",
              "      <td>2010-12-01 12:48:00</td>\n",
              "      <td>201012</td>\n",
              "    </tr>\n",
              "    <tr>\n",
              "      <th>3</th>\n",
              "      <td>12749.0</td>\n",
              "      <td>2011-05-10 15:25:00</td>\n",
              "      <td>201105</td>\n",
              "    </tr>\n",
              "    <tr>\n",
              "      <th>4</th>\n",
              "      <td>12820.0</td>\n",
              "      <td>2011-01-17 12:34:00</td>\n",
              "      <td>201101</td>\n",
              "    </tr>\n",
              "    <tr>\n",
              "      <th>...</th>\n",
              "      <td>...</td>\n",
              "      <td>...</td>\n",
              "      <td>...</td>\n",
              "    </tr>\n",
              "    <tr>\n",
              "      <th>2374</th>\n",
              "      <td>18272.0</td>\n",
              "      <td>2011-04-07 09:35:00</td>\n",
              "      <td>201104</td>\n",
              "    </tr>\n",
              "    <tr>\n",
              "      <th>2375</th>\n",
              "      <td>18273.0</td>\n",
              "      <td>2011-03-27 11:22:00</td>\n",
              "      <td>201103</td>\n",
              "    </tr>\n",
              "    <tr>\n",
              "      <th>2376</th>\n",
              "      <td>18277.0</td>\n",
              "      <td>2011-01-25 12:34:00</td>\n",
              "      <td>201101</td>\n",
              "    </tr>\n",
              "    <tr>\n",
              "      <th>2377</th>\n",
              "      <td>18280.0</td>\n",
              "      <td>2011-03-07 09:52:00</td>\n",
              "      <td>201103</td>\n",
              "    </tr>\n",
              "    <tr>\n",
              "      <th>2378</th>\n",
              "      <td>18283.0</td>\n",
              "      <td>2011-01-06 14:14:00</td>\n",
              "      <td>201101</td>\n",
              "    </tr>\n",
              "  </tbody>\n",
              "</table>\n",
              "<p>2379 rows × 3 columns</p>\n",
              "</div>"
            ],
            "text/plain": [
              "      CustomerID     MinPurchaseDate  MinPurchaseYearMonth\n",
              "0        12346.0 2011-01-18 10:01:00                201101\n",
              "1        12747.0 2010-12-05 15:38:00                201012\n",
              "2        12748.0 2010-12-01 12:48:00                201012\n",
              "3        12749.0 2011-05-10 15:25:00                201105\n",
              "4        12820.0 2011-01-17 12:34:00                201101\n",
              "...          ...                 ...                   ...\n",
              "2374     18272.0 2011-04-07 09:35:00                201104\n",
              "2375     18273.0 2011-03-27 11:22:00                201103\n",
              "2376     18277.0 2011-01-25 12:34:00                201101\n",
              "2377     18280.0 2011-03-07 09:52:00                201103\n",
              "2378     18283.0 2011-01-06 14:14:00                201101\n",
              "\n",
              "[2379 rows x 3 columns]"
            ]
          },
          "metadata": {
            "tags": []
          },
          "execution_count": 47
        }
      ]
    },
    {
      "cell_type": "markdown",
      "metadata": {
        "id": "YrlTYVvclHT2",
        "colab_type": "text"
      },
      "source": [
        "Merge main Uk dataframe data with min purchase df"
      ]
    },
    {
      "cell_type": "code",
      "metadata": {
        "id": "Dat2k6FwlD69",
        "colab_type": "code",
        "outputId": "d1568d13-9f36-40cb-c2c5-fc872829616d",
        "colab": {
          "base_uri": "https://localhost:8080/",
          "height": 496
        }
      },
      "source": [
        "tx_uk = pd.merge(tx_uk, tx_min_purchase, on='CustomerID')\n",
        "tx_uk.head()"
      ],
      "execution_count": 0,
      "outputs": [
        {
          "output_type": "execute_result",
          "data": {
            "text/html": [
              "<div>\n",
              "<style scoped>\n",
              "    .dataframe tbody tr th:only-of-type {\n",
              "        vertical-align: middle;\n",
              "    }\n",
              "\n",
              "    .dataframe tbody tr th {\n",
              "        vertical-align: top;\n",
              "    }\n",
              "\n",
              "    .dataframe thead th {\n",
              "        text-align: right;\n",
              "    }\n",
              "</style>\n",
              "<table border=\"1\" class=\"dataframe\">\n",
              "  <thead>\n",
              "    <tr style=\"text-align: right;\">\n",
              "      <th></th>\n",
              "      <th>InvoiceNo</th>\n",
              "      <th>StockCode</th>\n",
              "      <th>Description</th>\n",
              "      <th>Quantity</th>\n",
              "      <th>InvoiceDate</th>\n",
              "      <th>UnitPrice</th>\n",
              "      <th>CustomerID</th>\n",
              "      <th>Country</th>\n",
              "      <th>InvoiceYearMonth</th>\n",
              "      <th>Revenue</th>\n",
              "      <th>UserType</th>\n",
              "      <th>MinPurchaseDate</th>\n",
              "      <th>MinPurchaseYearMonth</th>\n",
              "    </tr>\n",
              "  </thead>\n",
              "  <tbody>\n",
              "    <tr>\n",
              "      <th>0</th>\n",
              "      <td>536365</td>\n",
              "      <td>85123A</td>\n",
              "      <td>WHITE HANGING HEART T-LIGHT HOLDER</td>\n",
              "      <td>6</td>\n",
              "      <td>2010-12-01 08:26:00</td>\n",
              "      <td>2.55</td>\n",
              "      <td>17850.0</td>\n",
              "      <td>United Kingdom</td>\n",
              "      <td>201012</td>\n",
              "      <td>15.30</td>\n",
              "      <td>New</td>\n",
              "      <td>2010-12-01 08:26:00</td>\n",
              "      <td>201012</td>\n",
              "    </tr>\n",
              "    <tr>\n",
              "      <th>1</th>\n",
              "      <td>536365</td>\n",
              "      <td>71053</td>\n",
              "      <td>WHITE METAL LANTERN</td>\n",
              "      <td>6</td>\n",
              "      <td>2010-12-01 08:26:00</td>\n",
              "      <td>3.39</td>\n",
              "      <td>17850.0</td>\n",
              "      <td>United Kingdom</td>\n",
              "      <td>201012</td>\n",
              "      <td>20.34</td>\n",
              "      <td>New</td>\n",
              "      <td>2010-12-01 08:26:00</td>\n",
              "      <td>201012</td>\n",
              "    </tr>\n",
              "    <tr>\n",
              "      <th>2</th>\n",
              "      <td>536365</td>\n",
              "      <td>84406B</td>\n",
              "      <td>CREAM CUPID HEARTS COAT HANGER</td>\n",
              "      <td>8</td>\n",
              "      <td>2010-12-01 08:26:00</td>\n",
              "      <td>2.75</td>\n",
              "      <td>17850.0</td>\n",
              "      <td>United Kingdom</td>\n",
              "      <td>201012</td>\n",
              "      <td>22.00</td>\n",
              "      <td>New</td>\n",
              "      <td>2010-12-01 08:26:00</td>\n",
              "      <td>201012</td>\n",
              "    </tr>\n",
              "    <tr>\n",
              "      <th>3</th>\n",
              "      <td>536365</td>\n",
              "      <td>84029G</td>\n",
              "      <td>KNITTED UNION FLAG HOT WATER BOTTLE</td>\n",
              "      <td>6</td>\n",
              "      <td>2010-12-01 08:26:00</td>\n",
              "      <td>3.39</td>\n",
              "      <td>17850.0</td>\n",
              "      <td>United Kingdom</td>\n",
              "      <td>201012</td>\n",
              "      <td>20.34</td>\n",
              "      <td>New</td>\n",
              "      <td>2010-12-01 08:26:00</td>\n",
              "      <td>201012</td>\n",
              "    </tr>\n",
              "    <tr>\n",
              "      <th>4</th>\n",
              "      <td>536365</td>\n",
              "      <td>84029E</td>\n",
              "      <td>RED WOOLLY HOTTIE WHITE HEART.</td>\n",
              "      <td>6</td>\n",
              "      <td>2010-12-01 08:26:00</td>\n",
              "      <td>3.39</td>\n",
              "      <td>17850.0</td>\n",
              "      <td>United Kingdom</td>\n",
              "      <td>201012</td>\n",
              "      <td>20.34</td>\n",
              "      <td>New</td>\n",
              "      <td>2010-12-01 08:26:00</td>\n",
              "      <td>201012</td>\n",
              "    </tr>\n",
              "  </tbody>\n",
              "</table>\n",
              "</div>"
            ],
            "text/plain": [
              "  InvoiceNo StockCode  ...     MinPurchaseDate  MinPurchaseYearMonth\n",
              "0    536365    85123A  ... 2010-12-01 08:26:00                201012\n",
              "1    536365     71053  ... 2010-12-01 08:26:00                201012\n",
              "2    536365    84406B  ... 2010-12-01 08:26:00                201012\n",
              "3    536365    84029G  ... 2010-12-01 08:26:00                201012\n",
              "4    536365    84029E  ... 2010-12-01 08:26:00                201012\n",
              "\n",
              "[5 rows x 13 columns]"
            ]
          },
          "metadata": {
            "tags": []
          },
          "execution_count": 51
        }
      ]
    },
    {
      "cell_type": "markdown",
      "metadata": {
        "id": "gUaXO9KtlXCC",
        "colab_type": "text"
      },
      "source": [
        "Create User Type Column"
      ]
    },
    {
      "cell_type": "code",
      "metadata": {
        "id": "ajBXAITrlY64",
        "colab_type": "code",
        "colab": {}
      },
      "source": [
        "tx_uk['UserType'] = 'New'\n",
        "tx_uk.loc[tx_uk['InvoiceYearMonth']>tx_uk['MinPurchaseYearMonth'],'UserType'] = 'Existing'"
      ],
      "execution_count": 0,
      "outputs": []
    },
    {
      "cell_type": "markdown",
      "metadata": {
        "id": "vei8c6gxlos_",
        "colab_type": "text"
      },
      "source": [
        "Check number of new and existing users"
      ]
    },
    {
      "cell_type": "code",
      "metadata": {
        "id": "fRSc4BQjlkL3",
        "colab_type": "code",
        "outputId": "d29fda12-0d9c-47da-95ae-12caa1929767",
        "colab": {
          "base_uri": "https://localhost:8080/",
          "height": 68
        }
      },
      "source": [
        "tx_uk.UserType.value_counts()"
      ],
      "execution_count": 0,
      "outputs": [
        {
          "output_type": "execute_result",
          "data": {
            "text/plain": [
              "New         60768\n",
              "Existing    57303\n",
              "Name: UserType, dtype: int64"
            ]
          },
          "metadata": {
            "tags": []
          },
          "execution_count": 53
        }
      ]
    },
    {
      "cell_type": "code",
      "metadata": {
        "id": "P6Z4LmG0lsBW",
        "colab_type": "code",
        "outputId": "23574b15-7dc9-4f03-90c3-f7581d193758",
        "colab": {
          "base_uri": "https://localhost:8080/",
          "height": 496
        }
      },
      "source": [
        "tx_uk.head()"
      ],
      "execution_count": 0,
      "outputs": [
        {
          "output_type": "execute_result",
          "data": {
            "text/html": [
              "<div>\n",
              "<style scoped>\n",
              "    .dataframe tbody tr th:only-of-type {\n",
              "        vertical-align: middle;\n",
              "    }\n",
              "\n",
              "    .dataframe tbody tr th {\n",
              "        vertical-align: top;\n",
              "    }\n",
              "\n",
              "    .dataframe thead th {\n",
              "        text-align: right;\n",
              "    }\n",
              "</style>\n",
              "<table border=\"1\" class=\"dataframe\">\n",
              "  <thead>\n",
              "    <tr style=\"text-align: right;\">\n",
              "      <th></th>\n",
              "      <th>InvoiceNo</th>\n",
              "      <th>StockCode</th>\n",
              "      <th>Description</th>\n",
              "      <th>Quantity</th>\n",
              "      <th>InvoiceDate</th>\n",
              "      <th>UnitPrice</th>\n",
              "      <th>CustomerID</th>\n",
              "      <th>Country</th>\n",
              "      <th>InvoiceYearMonth</th>\n",
              "      <th>Revenue</th>\n",
              "      <th>UserType</th>\n",
              "      <th>MinPurchaseDate</th>\n",
              "      <th>MinPurchaseYearMonth</th>\n",
              "    </tr>\n",
              "  </thead>\n",
              "  <tbody>\n",
              "    <tr>\n",
              "      <th>0</th>\n",
              "      <td>536365</td>\n",
              "      <td>85123A</td>\n",
              "      <td>WHITE HANGING HEART T-LIGHT HOLDER</td>\n",
              "      <td>6</td>\n",
              "      <td>2010-12-01 08:26:00</td>\n",
              "      <td>2.55</td>\n",
              "      <td>17850.0</td>\n",
              "      <td>United Kingdom</td>\n",
              "      <td>201012</td>\n",
              "      <td>15.30</td>\n",
              "      <td>New</td>\n",
              "      <td>2010-12-01 08:26:00</td>\n",
              "      <td>201012</td>\n",
              "    </tr>\n",
              "    <tr>\n",
              "      <th>1</th>\n",
              "      <td>536365</td>\n",
              "      <td>71053</td>\n",
              "      <td>WHITE METAL LANTERN</td>\n",
              "      <td>6</td>\n",
              "      <td>2010-12-01 08:26:00</td>\n",
              "      <td>3.39</td>\n",
              "      <td>17850.0</td>\n",
              "      <td>United Kingdom</td>\n",
              "      <td>201012</td>\n",
              "      <td>20.34</td>\n",
              "      <td>New</td>\n",
              "      <td>2010-12-01 08:26:00</td>\n",
              "      <td>201012</td>\n",
              "    </tr>\n",
              "    <tr>\n",
              "      <th>2</th>\n",
              "      <td>536365</td>\n",
              "      <td>84406B</td>\n",
              "      <td>CREAM CUPID HEARTS COAT HANGER</td>\n",
              "      <td>8</td>\n",
              "      <td>2010-12-01 08:26:00</td>\n",
              "      <td>2.75</td>\n",
              "      <td>17850.0</td>\n",
              "      <td>United Kingdom</td>\n",
              "      <td>201012</td>\n",
              "      <td>22.00</td>\n",
              "      <td>New</td>\n",
              "      <td>2010-12-01 08:26:00</td>\n",
              "      <td>201012</td>\n",
              "    </tr>\n",
              "    <tr>\n",
              "      <th>3</th>\n",
              "      <td>536365</td>\n",
              "      <td>84029G</td>\n",
              "      <td>KNITTED UNION FLAG HOT WATER BOTTLE</td>\n",
              "      <td>6</td>\n",
              "      <td>2010-12-01 08:26:00</td>\n",
              "      <td>3.39</td>\n",
              "      <td>17850.0</td>\n",
              "      <td>United Kingdom</td>\n",
              "      <td>201012</td>\n",
              "      <td>20.34</td>\n",
              "      <td>New</td>\n",
              "      <td>2010-12-01 08:26:00</td>\n",
              "      <td>201012</td>\n",
              "    </tr>\n",
              "    <tr>\n",
              "      <th>4</th>\n",
              "      <td>536365</td>\n",
              "      <td>84029E</td>\n",
              "      <td>RED WOOLLY HOTTIE WHITE HEART.</td>\n",
              "      <td>6</td>\n",
              "      <td>2010-12-01 08:26:00</td>\n",
              "      <td>3.39</td>\n",
              "      <td>17850.0</td>\n",
              "      <td>United Kingdom</td>\n",
              "      <td>201012</td>\n",
              "      <td>20.34</td>\n",
              "      <td>New</td>\n",
              "      <td>2010-12-01 08:26:00</td>\n",
              "      <td>201012</td>\n",
              "    </tr>\n",
              "  </tbody>\n",
              "</table>\n",
              "</div>"
            ],
            "text/plain": [
              "  InvoiceNo StockCode  ...     MinPurchaseDate  MinPurchaseYearMonth\n",
              "0    536365    85123A  ... 2010-12-01 08:26:00                201012\n",
              "1    536365     71053  ... 2010-12-01 08:26:00                201012\n",
              "2    536365    84406B  ... 2010-12-01 08:26:00                201012\n",
              "3    536365    84029G  ... 2010-12-01 08:26:00                201012\n",
              "4    536365    84029E  ... 2010-12-01 08:26:00                201012\n",
              "\n",
              "[5 rows x 13 columns]"
            ]
          },
          "metadata": {
            "tags": []
          },
          "execution_count": 54
        }
      ]
    },
    {
      "cell_type": "markdown",
      "metadata": {
        "id": "VfJuzMDzlv2n",
        "colab_type": "text"
      },
      "source": [
        "Find money spent by user type"
      ]
    },
    {
      "cell_type": "code",
      "metadata": {
        "id": "xA7K0H2HlzVP",
        "colab_type": "code",
        "colab": {}
      },
      "source": [
        "tx_user_type_revenue = tx_uk.groupby(['InvoiceYearMonth','UserType'])['Revenue'].sum().reset_index()"
      ],
      "execution_count": 0,
      "outputs": []
    },
    {
      "cell_type": "code",
      "metadata": {
        "id": "nOuJ3-gBwGEV",
        "colab_type": "code",
        "outputId": "943f5e8e-ba7f-4ee7-87ea-becbc40752ab",
        "colab": {
          "base_uri": "https://localhost:8080/",
          "height": 204
        }
      },
      "source": [
        "tx_user_type_revenue.head"
      ],
      "execution_count": 0,
      "outputs": [
        {
          "output_type": "execute_result",
          "data": {
            "text/plain": [
              "<bound method NDFrame.head of     InvoiceYearMonth  UserType     Revenue\n",
              "1             201101  Existing  195275.510\n",
              "2             201101       New  156705.770\n",
              "3             201102  Existing  220994.630\n",
              "4             201102       New  127859.000\n",
              "5             201103  Existing  296350.030\n",
              "6             201103       New  160567.840\n",
              "7             201104  Existing  268226.660\n",
              "8             201104       New  108517.751\n",
              "9             201105  Existing  157129.650\n",
              "10            201105       New   41301.300>"
            ]
          },
          "metadata": {
            "tags": []
          },
          "execution_count": 88
        }
      ]
    },
    {
      "cell_type": "code",
      "metadata": {
        "id": "pGeOUR2-pHxl",
        "colab_type": "code",
        "outputId": "ef5cdf31-3212-4d4e-8195-8ef09015e756",
        "colab": {
          "base_uri": "https://localhost:8080/",
          "height": 136
        }
      },
      "source": [
        "tx_uk.InvoiceYearMonth.value_counts()"
      ],
      "execution_count": 0,
      "outputs": [
        {
          "output_type": "execute_result",
          "data": {
            "text/plain": [
              "201103    24587\n",
              "201012    24536\n",
              "201104    21358\n",
              "201101    18738\n",
              "201102    18110\n",
              "201105    10742\n",
              "Name: InvoiceYearMonth, dtype: int64"
            ]
          },
          "metadata": {
            "tags": []
          },
          "execution_count": 63
        }
      ]
    },
    {
      "cell_type": "markdown",
      "metadata": {
        "id": "0oeeyOXRrJLj",
        "colab_type": "text"
      },
      "source": [
        "Find Revenue by User Type"
      ]
    },
    {
      "cell_type": "code",
      "metadata": {
        "id": "PClySqjIrHFq",
        "colab_type": "code",
        "colab": {}
      },
      "source": [
        "tx_user_type_revenue = tx_user_type_revenue.query(\"InvoiceYearMonth != 201012 and InvoiceYearMonth != 201112\")"
      ],
      "execution_count": 0,
      "outputs": []
    },
    {
      "cell_type": "markdown",
      "metadata": {
        "id": "oCAOfH3KnHST",
        "colab_type": "text"
      },
      "source": [
        "Visualize the spending trend by new and existing users"
      ]
    },
    {
      "cell_type": "code",
      "metadata": {
        "id": "QtViFXacnF3E",
        "colab_type": "code",
        "outputId": "55fe258d-6ed7-4d2b-f267-71ccc22181eb",
        "colab": {
          "base_uri": "https://localhost:8080/",
          "height": 296
        }
      },
      "source": [
        "fig, axs = plt.subplots(ncols=2)\n",
        "sns.lineplot(x=tx_user_type_revenue.query(\"UserType == 'Existing'\")['InvoiceYearMonth'],\n",
        "        y=tx_user_type_revenue.query(\"UserType == 'Existing'\")['Revenue'],\n",
        "        ax=axs[0])\n",
        "sns.lineplot(x=tx_user_type_revenue.query(\"UserType == 'New'\")['InvoiceYearMonth'],\n",
        "        y=tx_user_type_revenue.query(\"UserType == 'New'\")['Revenue'],\n",
        "        ax=axs[1])\n"
      ],
      "execution_count": 0,
      "outputs": [
        {
          "output_type": "execute_result",
          "data": {
            "text/plain": [
              "<matplotlib.axes._subplots.AxesSubplot at 0x7fda7cefae10>"
            ]
          },
          "metadata": {
            "tags": []
          },
          "execution_count": 72
        },
        {
          "output_type": "display_data",
          "data": {
            "image/png": "[encoded data removed]",
            "text/plain": [
              "<Figure size 432x288 with 2 Axes>"
            ]
          },
          "metadata": {
            "tags": []
          }
        }
      ]
    },
    {
      "cell_type": "markdown",
      "metadata": {
        "id": "7BWBPiX3skmP",
        "colab_type": "text"
      },
      "source": [
        "Let's look at customer ratio by type\n",
        "\n",
        "New User Type:"
      ]
    },
    {
      "cell_type": "code",
      "metadata": {
        "id": "mh1VBVB3snjl",
        "colab_type": "code",
        "colab": {}
      },
      "source": [
        "tx_user_ratio = tx_uk.query(\"UserType == 'New'\").groupby(['InvoiceYearMonth'])['CustomerID'].nunique()/tx_uk.query(\"UserType == 'Existing'\").groupby(['InvoiceYearMonth'])['CustomerID'].nunique() \n",
        "tx_user_ratio = tx_user_ratio.reset_index()\n",
        "tx_user_ratio = tx_user_ratio.dropna()"
      ],
      "execution_count": 0,
      "outputs": []
    },
    {
      "cell_type": "code",
      "metadata": {
        "id": "W_ji5yxZsw-G",
        "colab_type": "code",
        "outputId": "d442cc60-2bd0-4d45-826c-2fe543676649",
        "colab": {
          "base_uri": "https://localhost:8080/",
          "height": 153
        }
      },
      "source": [
        "tx_uk.query(\"UserType == 'New'\").groupby(['InvoiceYearMonth'])['CustomerID'].nunique()"
      ],
      "execution_count": 0,
      "outputs": [
        {
          "output_type": "execute_result",
          "data": {
            "text/plain": [
              "InvoiceYearMonth\n",
              "201012    871\n",
              "201101    362\n",
              "201102    339\n",
              "201103    408\n",
              "201104    276\n",
              "201105    123\n",
              "Name: CustomerID, dtype: int64"
            ]
          },
          "metadata": {
            "tags": []
          },
          "execution_count": 74
        }
      ]
    },
    {
      "cell_type": "markdown",
      "metadata": {
        "id": "hEqGeXeMs-cS",
        "colab_type": "text"
      },
      "source": [
        "Existing Customer Type"
      ]
    },
    {
      "cell_type": "code",
      "metadata": {
        "id": "nDPO7ZPZtCKN",
        "colab_type": "code",
        "outputId": "80954a0c-9141-4351-8643-41df6e63e672",
        "colab": {
          "base_uri": "https://localhost:8080/",
          "height": 136
        }
      },
      "source": [
        "tx_uk.query(\"UserType == 'Existing'\").groupby(['InvoiceYearMonth'])['CustomerID'].nunique()"
      ],
      "execution_count": 0,
      "outputs": [
        {
          "output_type": "execute_result",
          "data": {
            "text/plain": [
              "InvoiceYearMonth\n",
              "201101    322\n",
              "201102    375\n",
              "201103    515\n",
              "201104    541\n",
              "201105    374\n",
              "Name: CustomerID, dtype: int64"
            ]
          },
          "metadata": {
            "tags": []
          },
          "execution_count": 75
        }
      ]
    },
    {
      "cell_type": "markdown",
      "metadata": {
        "id": "vB2RkP0ttQKI",
        "colab_type": "text"
      },
      "source": [
        "Visualize"
      ]
    },
    {
      "cell_type": "code",
      "metadata": {
        "id": "PZb5tesJtRzc",
        "colab_type": "code",
        "outputId": "67770754-8782-4694-ca30-f7256e044fbb",
        "colab": {
          "base_uri": "https://localhost:8080/",
          "height": 218
        }
      },
      "source": [
        "x=tx_user_ratio.query(\"InvoiceYearMonth>201101 and InvoiceYearMonth<201112\")['InvoiceYearMonth'],\n",
        "y=tx_user_ratio.query(\"InvoiceYearMonth>201101 and InvoiceYearMonth<201112\")['CustomerID']"
      ],
      "execution_count": 0,
      "outputs": [
        {
          "output_type": "error",
          "ename": "AttributeError",
          "evalue": "ignored",
          "traceback": [
            "\u001b[0;31m---------------------------------------------------------------------------\u001b[0m",
            "\u001b[0;31mAttributeError\u001b[0m                            Traceback (most recent call last)",
            "\u001b[0;32m<ipython-input-78-3d7a731b342b>\u001b[0m in \u001b[0;36m<module>\u001b[0;34m()\u001b[0m\n\u001b[1;32m      1\u001b[0m \u001b[0mx\u001b[0m\u001b[0;34m=\u001b[0m\u001b[0mtx_user_ratio\u001b[0m\u001b[0;34m.\u001b[0m\u001b[0mquery\u001b[0m\u001b[0;34m(\u001b[0m\u001b[0;34m\"InvoiceYearMonth>201101 and InvoiceYearMonth<201112\"\u001b[0m\u001b[0;34m)\u001b[0m\u001b[0;34m[\u001b[0m\u001b[0;34m'InvoiceYearMonth'\u001b[0m\u001b[0;34m]\u001b[0m\u001b[0;34m,\u001b[0m\u001b[0;34m\u001b[0m\u001b[0;34m\u001b[0m\u001b[0m\n\u001b[1;32m      2\u001b[0m \u001b[0my\u001b[0m\u001b[0;34m=\u001b[0m\u001b[0mtx_user_ratio\u001b[0m\u001b[0;34m.\u001b[0m\u001b[0mquery\u001b[0m\u001b[0;34m(\u001b[0m\u001b[0;34m\"InvoiceYearMonth>201101 and InvoiceYearMonth<201112\"\u001b[0m\u001b[0;34m)\u001b[0m\u001b[0;34m[\u001b[0m\u001b[0;34m'CustomerID'\u001b[0m\u001b[0;34m]\u001b[0m\u001b[0;34m\u001b[0m\u001b[0;34m\u001b[0m\u001b[0m\n\u001b[0;32m----> 3\u001b[0;31m \u001b[0mx\u001b[0m\u001b[0;34m.\u001b[0m\u001b[0mhead\u001b[0m\u001b[0;34m\u001b[0m\u001b[0;34m\u001b[0m\u001b[0m\n\u001b[0m",
            "\u001b[0;31mAttributeError\u001b[0m: 'tuple' object has no attribute 'head'"
          ]
        }
      ]
    },
    {
      "cell_type": "markdown",
      "metadata": {
        "id": "uuMK1_-auJXI",
        "colab_type": "text"
      },
      "source": [
        "**Create Signup Data**"
      ]
    },
    {
      "cell_type": "code",
      "metadata": {
        "id": "1YX9GD4KuL-o",
        "colab_type": "code",
        "outputId": "941cb3d3-264d-4776-e819-774b8a29ab81",
        "colab": {
          "base_uri": "https://localhost:8080/",
          "height": 204
        }
      },
      "source": [
        "tx_min_purchase.head()"
      ],
      "execution_count": 0,
      "outputs": [
        {
          "output_type": "execute_result",
          "data": {
            "text/html": [
              "<div>\n",
              "<style scoped>\n",
              "    .dataframe tbody tr th:only-of-type {\n",
              "        vertical-align: middle;\n",
              "    }\n",
              "\n",
              "    .dataframe tbody tr th {\n",
              "        vertical-align: top;\n",
              "    }\n",
              "\n",
              "    .dataframe thead th {\n",
              "        text-align: right;\n",
              "    }\n",
              "</style>\n",
              "<table border=\"1\" class=\"dataframe\">\n",
              "  <thead>\n",
              "    <tr style=\"text-align: right;\">\n",
              "      <th></th>\n",
              "      <th>CustomerID</th>\n",
              "      <th>MinPurchaseDate</th>\n",
              "      <th>MinPurchaseYearMonth</th>\n",
              "    </tr>\n",
              "  </thead>\n",
              "  <tbody>\n",
              "    <tr>\n",
              "      <th>0</th>\n",
              "      <td>12346.0</td>\n",
              "      <td>2011-01-18 10:01:00</td>\n",
              "      <td>201101</td>\n",
              "    </tr>\n",
              "    <tr>\n",
              "      <th>1</th>\n",
              "      <td>12747.0</td>\n",
              "      <td>2010-12-05 15:38:00</td>\n",
              "      <td>201012</td>\n",
              "    </tr>\n",
              "    <tr>\n",
              "      <th>2</th>\n",
              "      <td>12748.0</td>\n",
              "      <td>2010-12-01 12:48:00</td>\n",
              "      <td>201012</td>\n",
              "    </tr>\n",
              "    <tr>\n",
              "      <th>3</th>\n",
              "      <td>12749.0</td>\n",
              "      <td>2011-05-10 15:25:00</td>\n",
              "      <td>201105</td>\n",
              "    </tr>\n",
              "    <tr>\n",
              "      <th>4</th>\n",
              "      <td>12820.0</td>\n",
              "      <td>2011-01-17 12:34:00</td>\n",
              "      <td>201101</td>\n",
              "    </tr>\n",
              "  </tbody>\n",
              "</table>\n",
              "</div>"
            ],
            "text/plain": [
              "   CustomerID     MinPurchaseDate  MinPurchaseYearMonth\n",
              "0     12346.0 2011-01-18 10:01:00                201101\n",
              "1     12747.0 2010-12-05 15:38:00                201012\n",
              "2     12748.0 2010-12-01 12:48:00                201012\n",
              "3     12749.0 2011-05-10 15:25:00                201105\n",
              "4     12820.0 2011-01-17 12:34:00                201101"
            ]
          },
          "metadata": {
            "tags": []
          },
          "execution_count": 81
        }
      ]
    },
    {
      "cell_type": "markdown",
      "metadata": {
        "id": "qSFkM29-uP9D",
        "colab_type": "text"
      },
      "source": [
        "Get unique count of singed up customer count"
      ]
    },
    {
      "cell_type": "code",
      "metadata": {
        "id": "hdO9DYFzuTMn",
        "colab_type": "code",
        "outputId": "b252c40c-bd25-46a9-b8ef-39927e0ce753",
        "colab": {
          "base_uri": "https://localhost:8080/",
          "height": 34
        }
      },
      "source": [
        "unq_month_year =  tx_min_purchase.MinPurchaseYearMonth.unique()\n",
        "unq_month_year"
      ],
      "execution_count": 0,
      "outputs": [
        {
          "output_type": "execute_result",
          "data": {
            "text/plain": [
              "array([201101, 201012, 201105, 201102, 201103, 201104])"
            ]
          },
          "metadata": {
            "tags": []
          },
          "execution_count": 83
        }
      ]
    },
    {
      "cell_type": "markdown",
      "metadata": {
        "id": "A8b3XCg6uw_6",
        "colab_type": "text"
      },
      "source": [
        "creating a function to calculate the duration"
      ]
    },
    {
      "cell_type": "code",
      "metadata": {
        "id": "DV_EnGv3uwF1",
        "colab_type": "code",
        "colab": {}
      },
      "source": [
        "def generate_signup_date(year_month):\n",
        "    signup_date = [el for el in unq_month_year if year_month >= el]\n",
        "    return np.random.choice(signup_date)"
      ],
      "execution_count": 0,
      "outputs": []
    },
    {
      "cell_type": "code",
      "metadata": {
        "id": "2CJGWzxju4Mc",
        "colab_type": "code",
        "colab": {}
      },
      "source": [
        "tx_min_purchase['SignupYearMonth'] = tx_min_purchase.apply(lambda row: generate_signup_date(row['MinPurchaseYearMonth']),axis=1)"
      ],
      "execution_count": 0,
      "outputs": []
    },
    {
      "cell_type": "code",
      "metadata": {
        "id": "JytsM-iEu6_e",
        "colab_type": "code",
        "colab": {}
      },
      "source": [
        "tx_min_purchase['InstallYearMonth'] = tx_min_purchase.apply(lambda row: generate_signup_date(row['SignupYearMonth']),axis=1)"
      ],
      "execution_count": 0,
      "outputs": []
    },
    {
      "cell_type": "code",
      "metadata": {
        "id": "enpcmhkGu_HF",
        "colab_type": "code",
        "outputId": "06873bb8-a776-4193-b221-06c8401bb7c0",
        "colab": {
          "base_uri": "https://localhost:8080/",
          "height": 204
        }
      },
      "source": [
        "tx_min_purchase.head()"
      ],
      "execution_count": 0,
      "outputs": [
        {
          "output_type": "execute_result",
          "data": {
            "text/html": [
              "<div>\n",
              "<style scoped>\n",
              "    .dataframe tbody tr th:only-of-type {\n",
              "        vertical-align: middle;\n",
              "    }\n",
              "\n",
              "    .dataframe tbody tr th {\n",
              "        vertical-align: top;\n",
              "    }\n",
              "\n",
              "    .dataframe thead th {\n",
              "        text-align: right;\n",
              "    }\n",
              "</style>\n",
              "<table border=\"1\" class=\"dataframe\">\n",
              "  <thead>\n",
              "    <tr style=\"text-align: right;\">\n",
              "      <th></th>\n",
              "      <th>CustomerID</th>\n",
              "      <th>MinPurchaseDate</th>\n",
              "      <th>MinPurchaseYearMonth</th>\n",
              "      <th>SignupYearMonth</th>\n",
              "      <th>InstallYearMonth</th>\n",
              "    </tr>\n",
              "  </thead>\n",
              "  <tbody>\n",
              "    <tr>\n",
              "      <th>0</th>\n",
              "      <td>12346.0</td>\n",
              "      <td>2011-01-18 10:01:00</td>\n",
              "      <td>201101</td>\n",
              "      <td>201101</td>\n",
              "      <td>201101</td>\n",
              "    </tr>\n",
              "    <tr>\n",
              "      <th>1</th>\n",
              "      <td>12747.0</td>\n",
              "      <td>2010-12-05 15:38:00</td>\n",
              "      <td>201012</td>\n",
              "      <td>201012</td>\n",
              "      <td>201012</td>\n",
              "    </tr>\n",
              "    <tr>\n",
              "      <th>2</th>\n",
              "      <td>12748.0</td>\n",
              "      <td>2010-12-01 12:48:00</td>\n",
              "      <td>201012</td>\n",
              "      <td>201012</td>\n",
              "      <td>201012</td>\n",
              "    </tr>\n",
              "    <tr>\n",
              "      <th>3</th>\n",
              "      <td>12749.0</td>\n",
              "      <td>2011-05-10 15:25:00</td>\n",
              "      <td>201105</td>\n",
              "      <td>201101</td>\n",
              "      <td>201101</td>\n",
              "    </tr>\n",
              "    <tr>\n",
              "      <th>4</th>\n",
              "      <td>12820.0</td>\n",
              "      <td>2011-01-17 12:34:00</td>\n",
              "      <td>201101</td>\n",
              "      <td>201101</td>\n",
              "      <td>201012</td>\n",
              "    </tr>\n",
              "  </tbody>\n",
              "</table>\n",
              "</div>"
            ],
            "text/plain": [
              "   CustomerID     MinPurchaseDate  ...  SignupYearMonth  InstallYearMonth\n",
              "0     12346.0 2011-01-18 10:01:00  ...           201101            201101\n",
              "1     12747.0 2010-12-05 15:38:00  ...           201012            201012\n",
              "2     12748.0 2010-12-01 12:48:00  ...           201012            201012\n",
              "3     12749.0 2011-05-10 15:25:00  ...           201101            201101\n",
              "4     12820.0 2011-01-17 12:34:00  ...           201101            201012\n",
              "\n",
              "[5 rows x 5 columns]"
            ]
          },
          "metadata": {
            "tags": []
          },
          "execution_count": 87
        }
      ]
    },
    {
      "cell_type": "code",
      "metadata": {
        "id": "VI9pNZfEvHMf",
        "colab_type": "code",
        "outputId": "932ba4ee-df2c-48b1-fa32-e110053ecfce",
        "colab": {
          "base_uri": "https://localhost:8080/",
          "height": 259
        }
      },
      "source": [
        "tx_min_purchase['AcqChannel'] = tx_min_purchase.apply(lambda x: np.random.choice(channels),axis=1)"
      ],
      "execution_count": 0,
      "outputs": [
        {
          "output_type": "error",
          "ename": "NameError",
          "evalue": "ignored",
          "traceback": [
            "\u001b[0;31m---------------------------------------------------------------------------\u001b[0m",
            "\u001b[0;31mNameError\u001b[0m                                 Traceback (most recent call last)",
            "\u001b[0;32m<ipython-input-90-5f6d302f5d2a>\u001b[0m in \u001b[0;36m<module>\u001b[0;34m()\u001b[0m\n\u001b[0;32m----> 1\u001b[0;31m \u001b[0mtx_min_purchase\u001b[0m\u001b[0;34m[\u001b[0m\u001b[0;34m'AcqChannel'\u001b[0m\u001b[0;34m]\u001b[0m \u001b[0;34m=\u001b[0m \u001b[0mtx_min_purchase\u001b[0m\u001b[0;34m.\u001b[0m\u001b[0mapply\u001b[0m\u001b[0;34m(\u001b[0m\u001b[0;32mlambda\u001b[0m \u001b[0mx\u001b[0m\u001b[0;34m:\u001b[0m \u001b[0mnp\u001b[0m\u001b[0;34m.\u001b[0m\u001b[0mrandom\u001b[0m\u001b[0;34m.\u001b[0m\u001b[0mchoice\u001b[0m\u001b[0;34m(\u001b[0m\u001b[0mchannels\u001b[0m\u001b[0;34m)\u001b[0m\u001b[0;34m,\u001b[0m\u001b[0maxis\u001b[0m\u001b[0;34m=\u001b[0m\u001b[0;36m1\u001b[0m\u001b[0;34m)\u001b[0m\u001b[0;34m\u001b[0m\u001b[0;34m\u001b[0m\u001b[0m\n\u001b[0m",
            "\u001b[0;32m/usr/local/lib/python3.6/dist-packages/pandas/core/frame.py\u001b[0m in \u001b[0;36mapply\u001b[0;34m(self, func, axis, broadcast, raw, reduce, result_type, args, **kwds)\u001b[0m\n\u001b[1;32m   6926\u001b[0m             \u001b[0mkwds\u001b[0m\u001b[0;34m=\u001b[0m\u001b[0mkwds\u001b[0m\u001b[0;34m,\u001b[0m\u001b[0;34m\u001b[0m\u001b[0;34m\u001b[0m\u001b[0m\n\u001b[1;32m   6927\u001b[0m         )\n\u001b[0;32m-> 6928\u001b[0;31m         \u001b[0;32mreturn\u001b[0m \u001b[0mop\u001b[0m\u001b[0;34m.\u001b[0m\u001b[0mget_result\u001b[0m\u001b[0;34m(\u001b[0m\u001b[0;34m)\u001b[0m\u001b[0;34m\u001b[0m\u001b[0;34m\u001b[0m\u001b[0m\n\u001b[0m\u001b[1;32m   6929\u001b[0m \u001b[0;34m\u001b[0m\u001b[0m\n\u001b[1;32m   6930\u001b[0m     \u001b[0;32mdef\u001b[0m \u001b[0mapplymap\u001b[0m\u001b[0;34m(\u001b[0m\u001b[0mself\u001b[0m\u001b[0;34m,\u001b[0m \u001b[0mfunc\u001b[0m\u001b[0;34m)\u001b[0m\u001b[0;34m:\u001b[0m\u001b[0;34m\u001b[0m\u001b[0;34m\u001b[0m\u001b[0m\n",
            "\u001b[0;32m/usr/local/lib/python3.6/dist-packages/pandas/core/apply.py\u001b[0m in \u001b[0;36mget_result\u001b[0;34m(self)\u001b[0m\n\u001b[1;32m    184\u001b[0m             \u001b[0;32mreturn\u001b[0m \u001b[0mself\u001b[0m\u001b[0;34m.\u001b[0m\u001b[0mapply_raw\u001b[0m\u001b[0;34m(\u001b[0m\u001b[0;34m)\u001b[0m\u001b[0;34m\u001b[0m\u001b[0;34m\u001b[0m\u001b[0m\n\u001b[1;32m    185\u001b[0m \u001b[0;34m\u001b[0m\u001b[0m\n\u001b[0;32m--> 186\u001b[0;31m         \u001b[0;32mreturn\u001b[0m \u001b[0mself\u001b[0m\u001b[0;34m.\u001b[0m\u001b[0mapply_standard\u001b[0m\u001b[0;34m(\u001b[0m\u001b[0;34m)\u001b[0m\u001b[0;34m\u001b[0m\u001b[0;34m\u001b[0m\u001b[0m\n\u001b[0m\u001b[1;32m    187\u001b[0m \u001b[0;34m\u001b[0m\u001b[0m\n\u001b[1;32m    188\u001b[0m     \u001b[0;32mdef\u001b[0m \u001b[0mapply_empty_result\u001b[0m\u001b[0;34m(\u001b[0m\u001b[0mself\u001b[0m\u001b[0;34m)\u001b[0m\u001b[0;34m:\u001b[0m\u001b[0;34m\u001b[0m\u001b[0;34m\u001b[0m\u001b[0m\n",
            "\u001b[0;32m/usr/local/lib/python3.6/dist-packages/pandas/core/apply.py\u001b[0m in \u001b[0;36mapply_standard\u001b[0;34m(self)\u001b[0m\n\u001b[1;32m    290\u001b[0m \u001b[0;34m\u001b[0m\u001b[0m\n\u001b[1;32m    291\u001b[0m         \u001b[0;31m# compute the result using the series generator\u001b[0m\u001b[0;34m\u001b[0m\u001b[0;34m\u001b[0m\u001b[0;34m\u001b[0m\u001b[0m\n\u001b[0;32m--> 292\u001b[0;31m         \u001b[0mself\u001b[0m\u001b[0;34m.\u001b[0m\u001b[0mapply_series_generator\u001b[0m\u001b[0;34m(\u001b[0m\u001b[0;34m)\u001b[0m\u001b[0;34m\u001b[0m\u001b[0;34m\u001b[0m\u001b[0m\n\u001b[0m\u001b[1;32m    293\u001b[0m \u001b[0;34m\u001b[0m\u001b[0m\n\u001b[1;32m    294\u001b[0m         \u001b[0;31m# wrap results\u001b[0m\u001b[0;34m\u001b[0m\u001b[0;34m\u001b[0m\u001b[0;34m\u001b[0m\u001b[0m\n",
            "\u001b[0;32m/usr/local/lib/python3.6/dist-packages/pandas/core/apply.py\u001b[0m in \u001b[0;36mapply_series_generator\u001b[0;34m(self)\u001b[0m\n\u001b[1;32m    319\u001b[0m             \u001b[0;32mtry\u001b[0m\u001b[0;34m:\u001b[0m\u001b[0;34m\u001b[0m\u001b[0;34m\u001b[0m\u001b[0m\n\u001b[1;32m    320\u001b[0m                 \u001b[0;32mfor\u001b[0m \u001b[0mi\u001b[0m\u001b[0;34m,\u001b[0m \u001b[0mv\u001b[0m \u001b[0;32min\u001b[0m \u001b[0menumerate\u001b[0m\u001b[0;34m(\u001b[0m\u001b[0mseries_gen\u001b[0m\u001b[0;34m)\u001b[0m\u001b[0;34m:\u001b[0m\u001b[0;34m\u001b[0m\u001b[0;34m\u001b[0m\u001b[0m\n\u001b[0;32m--> 321\u001b[0;31m                     \u001b[0mresults\u001b[0m\u001b[0;34m[\u001b[0m\u001b[0mi\u001b[0m\u001b[0;34m]\u001b[0m \u001b[0;34m=\u001b[0m \u001b[0mself\u001b[0m\u001b[0;34m.\u001b[0m\u001b[0mf\u001b[0m\u001b[0;34m(\u001b[0m\u001b[0mv\u001b[0m\u001b[0;34m)\u001b[0m\u001b[0;34m\u001b[0m\u001b[0;34m\u001b[0m\u001b[0m\n\u001b[0m\u001b[1;32m    322\u001b[0m                     \u001b[0mkeys\u001b[0m\u001b[0;34m.\u001b[0m\u001b[0mappend\u001b[0m\u001b[0;34m(\u001b[0m\u001b[0mv\u001b[0m\u001b[0;34m.\u001b[0m\u001b[0mname\u001b[0m\u001b[0;34m)\u001b[0m\u001b[0;34m\u001b[0m\u001b[0;34m\u001b[0m\u001b[0m\n\u001b[1;32m    323\u001b[0m             \u001b[0;32mexcept\u001b[0m \u001b[0mException\u001b[0m \u001b[0;32mas\u001b[0m \u001b[0me\u001b[0m\u001b[0;34m:\u001b[0m\u001b[0;34m\u001b[0m\u001b[0;34m\u001b[0m\u001b[0m\n",
            "\u001b[0;32m<ipython-input-90-5f6d302f5d2a>\u001b[0m in \u001b[0;36m<lambda>\u001b[0;34m(x)\u001b[0m\n\u001b[0;32m----> 1\u001b[0;31m \u001b[0mtx_min_purchase\u001b[0m\u001b[0;34m[\u001b[0m\u001b[0;34m'AcqChannel'\u001b[0m\u001b[0;34m]\u001b[0m \u001b[0;34m=\u001b[0m \u001b[0mtx_min_purchase\u001b[0m\u001b[0;34m.\u001b[0m\u001b[0mapply\u001b[0m\u001b[0;34m(\u001b[0m\u001b[0;32mlambda\u001b[0m \u001b[0mx\u001b[0m\u001b[0;34m:\u001b[0m \u001b[0mnp\u001b[0m\u001b[0;34m.\u001b[0m\u001b[0mrandom\u001b[0m\u001b[0;34m.\u001b[0m\u001b[0mchoice\u001b[0m\u001b[0;34m(\u001b[0m\u001b[0mchannels\u001b[0m\u001b[0;34m)\u001b[0m\u001b[0;34m,\u001b[0m\u001b[0maxis\u001b[0m\u001b[0;34m=\u001b[0m\u001b[0;36m1\u001b[0m\u001b[0;34m)\u001b[0m\u001b[0;34m\u001b[0m\u001b[0;34m\u001b[0m\u001b[0m\n\u001b[0m",
            "\u001b[0;31mNameError\u001b[0m: (\"name 'channels' is not defined\", 'occurred at index 0')"
          ]
        }
      ]
    },
    {
      "cell_type": "code",
      "metadata": {
        "id": "YsVH4Jw7vCpX",
        "colab_type": "code",
        "colab": {}
      },
      "source": [
        "channels = ['organic','inorganic','referral']"
      ],
      "execution_count": 0,
      "outputs": []
    },
    {
      "cell_type": "markdown",
      "metadata": {
        "id": "HjJ3fIScwzWP",
        "colab_type": "text"
      },
      "source": [
        "**Activation Rate**"
      ]
    },
    {
      "cell_type": "code",
      "metadata": {
        "id": "w3KLgIJXw1FI",
        "colab_type": "code",
        "colab": {}
      },
      "source": [
        "\n",
        "tx_activation = tx_min_purchase[tx_min_purchase['MinPurchaseYearMonth'] == tx_min_purchase['SignupYearMonth']].groupby('SignupYearMonth').CustomerID.count()/tx_min_purchase.groupby('SignupYearMonth').CustomerID.count()\n",
        "tx_activation = tx_activation.reset_index()"
      ],
      "execution_count": 0,
      "outputs": []
    },
    {
      "cell_type": "code",
      "metadata": {
        "id": "QAKfjwsqw5Ax",
        "colab_type": "code",
        "colab": {}
      },
      "source": [
        "tx_activation_ch = tx_min_purchase[tx_min_purchase['MinPurchaseYearMonth'] == tx_min_purchase['SignupYearMonth']].groupby(['SignupYearMonth','AcqChannel']).CustomerID.count()/tx_min_purchase.groupby(['SignupYearMonth','AcqChannel']).CustomerID.count()\n",
        "tx_activation_ch = tx_activation_ch.reset_index()"
      ],
      "execution_count": 0,
      "outputs": []
    },
    {
      "cell_type": "markdown",
      "metadata": {
        "id": "J6820cnHtvPm",
        "colab_type": "text"
      },
      "source": [
        "**Monthly Retention Rate**\n",
        "\n",
        "Monthly Retention Rate = Retained Customers From Prev. Month/Active Customers Total"
      ]
    },
    {
      "cell_type": "code",
      "metadata": {
        "id": "wGil43fjw73I",
        "colab_type": "code",
        "outputId": "b522405d-4086-4d4f-c9ea-40c284c2aff0",
        "colab": {
          "base_uri": "https://localhost:8080/",
          "height": 496
        }
      },
      "source": [
        "tx_uk.head()"
      ],
      "execution_count": 0,
      "outputs": [
        {
          "output_type": "execute_result",
          "data": {
            "text/html": [
              "<div>\n",
              "<style scoped>\n",
              "    .dataframe tbody tr th:only-of-type {\n",
              "        vertical-align: middle;\n",
              "    }\n",
              "\n",
              "    .dataframe tbody tr th {\n",
              "        vertical-align: top;\n",
              "    }\n",
              "\n",
              "    .dataframe thead th {\n",
              "        text-align: right;\n",
              "    }\n",
              "</style>\n",
              "<table border=\"1\" class=\"dataframe\">\n",
              "  <thead>\n",
              "    <tr style=\"text-align: right;\">\n",
              "      <th></th>\n",
              "      <th>InvoiceNo</th>\n",
              "      <th>StockCode</th>\n",
              "      <th>Description</th>\n",
              "      <th>Quantity</th>\n",
              "      <th>InvoiceDate</th>\n",
              "      <th>UnitPrice</th>\n",
              "      <th>CustomerID</th>\n",
              "      <th>Country</th>\n",
              "      <th>InvoiceYearMonth</th>\n",
              "      <th>Revenue</th>\n",
              "      <th>UserType</th>\n",
              "      <th>MinPurchaseDate</th>\n",
              "      <th>MinPurchaseYearMonth</th>\n",
              "    </tr>\n",
              "  </thead>\n",
              "  <tbody>\n",
              "    <tr>\n",
              "      <th>0</th>\n",
              "      <td>536365</td>\n",
              "      <td>85123A</td>\n",
              "      <td>WHITE HANGING HEART T-LIGHT HOLDER</td>\n",
              "      <td>6</td>\n",
              "      <td>2010-12-01 08:26:00</td>\n",
              "      <td>2.55</td>\n",
              "      <td>17850.0</td>\n",
              "      <td>United Kingdom</td>\n",
              "      <td>201012</td>\n",
              "      <td>15.30</td>\n",
              "      <td>New</td>\n",
              "      <td>2010-12-01 08:26:00</td>\n",
              "      <td>201012</td>\n",
              "    </tr>\n",
              "    <tr>\n",
              "      <th>1</th>\n",
              "      <td>536365</td>\n",
              "      <td>71053</td>\n",
              "      <td>WHITE METAL LANTERN</td>\n",
              "      <td>6</td>\n",
              "      <td>2010-12-01 08:26:00</td>\n",
              "      <td>3.39</td>\n",
              "      <td>17850.0</td>\n",
              "      <td>United Kingdom</td>\n",
              "      <td>201012</td>\n",
              "      <td>20.34</td>\n",
              "      <td>New</td>\n",
              "      <td>2010-12-01 08:26:00</td>\n",
              "      <td>201012</td>\n",
              "    </tr>\n",
              "    <tr>\n",
              "      <th>2</th>\n",
              "      <td>536365</td>\n",
              "      <td>84406B</td>\n",
              "      <td>CREAM CUPID HEARTS COAT HANGER</td>\n",
              "      <td>8</td>\n",
              "      <td>2010-12-01 08:26:00</td>\n",
              "      <td>2.75</td>\n",
              "      <td>17850.0</td>\n",
              "      <td>United Kingdom</td>\n",
              "      <td>201012</td>\n",
              "      <td>22.00</td>\n",
              "      <td>New</td>\n",
              "      <td>2010-12-01 08:26:00</td>\n",
              "      <td>201012</td>\n",
              "    </tr>\n",
              "    <tr>\n",
              "      <th>3</th>\n",
              "      <td>536365</td>\n",
              "      <td>84029G</td>\n",
              "      <td>KNITTED UNION FLAG HOT WATER BOTTLE</td>\n",
              "      <td>6</td>\n",
              "      <td>2010-12-01 08:26:00</td>\n",
              "      <td>3.39</td>\n",
              "      <td>17850.0</td>\n",
              "      <td>United Kingdom</td>\n",
              "      <td>201012</td>\n",
              "      <td>20.34</td>\n",
              "      <td>New</td>\n",
              "      <td>2010-12-01 08:26:00</td>\n",
              "      <td>201012</td>\n",
              "    </tr>\n",
              "    <tr>\n",
              "      <th>4</th>\n",
              "      <td>536365</td>\n",
              "      <td>84029E</td>\n",
              "      <td>RED WOOLLY HOTTIE WHITE HEART.</td>\n",
              "      <td>6</td>\n",
              "      <td>2010-12-01 08:26:00</td>\n",
              "      <td>3.39</td>\n",
              "      <td>17850.0</td>\n",
              "      <td>United Kingdom</td>\n",
              "      <td>201012</td>\n",
              "      <td>20.34</td>\n",
              "      <td>New</td>\n",
              "      <td>2010-12-01 08:26:00</td>\n",
              "      <td>201012</td>\n",
              "    </tr>\n",
              "  </tbody>\n",
              "</table>\n",
              "</div>"
            ],
            "text/plain": [
              "  InvoiceNo StockCode  ...     MinPurchaseDate  MinPurchaseYearMonth\n",
              "0    536365    85123A  ... 2010-12-01 08:26:00                201012\n",
              "1    536365     71053  ... 2010-12-01 08:26:00                201012\n",
              "2    536365    84406B  ... 2010-12-01 08:26:00                201012\n",
              "3    536365    84029G  ... 2010-12-01 08:26:00                201012\n",
              "4    536365    84029E  ... 2010-12-01 08:26:00                201012\n",
              "\n",
              "[5 rows x 13 columns]"
            ]
          },
          "metadata": {
            "tags": []
          },
          "execution_count": 92
        }
      ]
    },
    {
      "cell_type": "code",
      "metadata": {
        "id": "lEjnzfAtw-1h",
        "colab_type": "code",
        "colab": {}
      },
      "source": [
        "df_monthly_active = tx_uk.groupby('InvoiceYearMonth')['CustomerID'].nunique().reset_index()"
      ],
      "execution_count": 0,
      "outputs": []
    },
    {
      "cell_type": "code",
      "metadata": {
        "id": "N0ZDCQUHxCol",
        "colab_type": "code",
        "colab": {}
      },
      "source": [
        "tx_user_purchase = tx_uk.groupby(['CustomerID','InvoiceYearMonth'])['Revenue'].sum().astype(int).reset_index()"
      ],
      "execution_count": 0,
      "outputs": []
    },
    {
      "cell_type": "code",
      "metadata": {
        "id": "-tv-9Mh3xE_S",
        "colab_type": "code",
        "outputId": "b20c93dd-99b5-4ab6-b1c9-2fef120166fa",
        "colab": {
          "base_uri": "https://localhost:8080/",
          "height": 419
        }
      },
      "source": [
        "tx_user_purchase"
      ],
      "execution_count": 0,
      "outputs": [
        {
          "output_type": "execute_result",
          "data": {
            "text/html": [
              "<div>\n",
              "<style scoped>\n",
              "    .dataframe tbody tr th:only-of-type {\n",
              "        vertical-align: middle;\n",
              "    }\n",
              "\n",
              "    .dataframe tbody tr th {\n",
              "        vertical-align: top;\n",
              "    }\n",
              "\n",
              "    .dataframe thead th {\n",
              "        text-align: right;\n",
              "    }\n",
              "</style>\n",
              "<table border=\"1\" class=\"dataframe\">\n",
              "  <thead>\n",
              "    <tr style=\"text-align: right;\">\n",
              "      <th></th>\n",
              "      <th>CustomerID</th>\n",
              "      <th>InvoiceYearMonth</th>\n",
              "      <th>Revenue</th>\n",
              "    </tr>\n",
              "  </thead>\n",
              "  <tbody>\n",
              "    <tr>\n",
              "      <th>0</th>\n",
              "      <td>12346.0</td>\n",
              "      <td>201101</td>\n",
              "      <td>0</td>\n",
              "    </tr>\n",
              "    <tr>\n",
              "      <th>1</th>\n",
              "      <td>12747.0</td>\n",
              "      <td>201012</td>\n",
              "      <td>706</td>\n",
              "    </tr>\n",
              "    <tr>\n",
              "      <th>2</th>\n",
              "      <td>12747.0</td>\n",
              "      <td>201101</td>\n",
              "      <td>303</td>\n",
              "    </tr>\n",
              "    <tr>\n",
              "      <th>3</th>\n",
              "      <td>12747.0</td>\n",
              "      <td>201103</td>\n",
              "      <td>310</td>\n",
              "    </tr>\n",
              "    <tr>\n",
              "      <th>4</th>\n",
              "      <td>12747.0</td>\n",
              "      <td>201105</td>\n",
              "      <td>442</td>\n",
              "    </tr>\n",
              "    <tr>\n",
              "      <th>...</th>\n",
              "      <td>...</td>\n",
              "      <td>...</td>\n",
              "      <td>...</td>\n",
              "    </tr>\n",
              "    <tr>\n",
              "      <th>4501</th>\n",
              "      <td>18277.0</td>\n",
              "      <td>201101</td>\n",
              "      <td>-12</td>\n",
              "    </tr>\n",
              "    <tr>\n",
              "      <th>4502</th>\n",
              "      <td>18280.0</td>\n",
              "      <td>201103</td>\n",
              "      <td>180</td>\n",
              "    </tr>\n",
              "    <tr>\n",
              "      <th>4503</th>\n",
              "      <td>18283.0</td>\n",
              "      <td>201101</td>\n",
              "      <td>214</td>\n",
              "    </tr>\n",
              "    <tr>\n",
              "      <th>4504</th>\n",
              "      <td>18283.0</td>\n",
              "      <td>201102</td>\n",
              "      <td>102</td>\n",
              "    </tr>\n",
              "    <tr>\n",
              "      <th>4505</th>\n",
              "      <td>18283.0</td>\n",
              "      <td>201104</td>\n",
              "      <td>117</td>\n",
              "    </tr>\n",
              "  </tbody>\n",
              "</table>\n",
              "<p>4506 rows × 3 columns</p>\n",
              "</div>"
            ],
            "text/plain": [
              "      CustomerID  InvoiceYearMonth  Revenue\n",
              "0        12346.0            201101        0\n",
              "1        12747.0            201012      706\n",
              "2        12747.0            201101      303\n",
              "3        12747.0            201103      310\n",
              "4        12747.0            201105      442\n",
              "...          ...               ...      ...\n",
              "4501     18277.0            201101      -12\n",
              "4502     18280.0            201103      180\n",
              "4503     18283.0            201101      214\n",
              "4504     18283.0            201102      102\n",
              "4505     18283.0            201104      117\n",
              "\n",
              "[4506 rows x 3 columns]"
            ]
          },
          "metadata": {
            "tags": []
          },
          "execution_count": 95
        }
      ]
    },
    {
      "cell_type": "code",
      "metadata": {
        "id": "P9PRJA_CxLUz",
        "colab_type": "code",
        "outputId": "1a8b4de7-0691-4d6f-831b-18ed54d30596",
        "colab": {
          "base_uri": "https://localhost:8080/",
          "height": 34
        }
      },
      "source": [
        "\n",
        "tx_user_purchase.Revenue.sum()"
      ],
      "execution_count": 0,
      "outputs": [
        {
          "output_type": "execute_result",
          "data": {
            "text/plain": [
              "2214833"
            ]
          },
          "metadata": {
            "tags": []
          },
          "execution_count": 96
        }
      ]
    },
    {
      "cell_type": "code",
      "metadata": {
        "id": "qPXzOKQwxOPH",
        "colab_type": "code",
        "colab": {}
      },
      "source": [
        "tx_retention = pd.crosstab(tx_user_purchase['CustomerID'], tx_user_purchase['InvoiceYearMonth']).reset_index()"
      ],
      "execution_count": 0,
      "outputs": []
    },
    {
      "cell_type": "code",
      "metadata": {
        "id": "8hJKKZSMxSBw",
        "colab_type": "code",
        "outputId": "ee5c4cf1-0afe-48da-b0ce-a01990050354",
        "colab": {
          "base_uri": "https://localhost:8080/",
          "height": 204
        }
      },
      "source": [
        "tx_retention.head()"
      ],
      "execution_count": 0,
      "outputs": [
        {
          "output_type": "execute_result",
          "data": {
            "text/html": [
              "<div>\n",
              "<style scoped>\n",
              "    .dataframe tbody tr th:only-of-type {\n",
              "        vertical-align: middle;\n",
              "    }\n",
              "\n",
              "    .dataframe tbody tr th {\n",
              "        vertical-align: top;\n",
              "    }\n",
              "\n",
              "    .dataframe thead th {\n",
              "        text-align: right;\n",
              "    }\n",
              "</style>\n",
              "<table border=\"1\" class=\"dataframe\">\n",
              "  <thead>\n",
              "    <tr style=\"text-align: right;\">\n",
              "      <th>InvoiceYearMonth</th>\n",
              "      <th>CustomerID</th>\n",
              "      <th>201012</th>\n",
              "      <th>201101</th>\n",
              "      <th>201102</th>\n",
              "      <th>201103</th>\n",
              "      <th>201104</th>\n",
              "      <th>201105</th>\n",
              "    </tr>\n",
              "  </thead>\n",
              "  <tbody>\n",
              "    <tr>\n",
              "      <th>0</th>\n",
              "      <td>12346.0</td>\n",
              "      <td>0</td>\n",
              "      <td>1</td>\n",
              "      <td>0</td>\n",
              "      <td>0</td>\n",
              "      <td>0</td>\n",
              "      <td>0</td>\n",
              "    </tr>\n",
              "    <tr>\n",
              "      <th>1</th>\n",
              "      <td>12747.0</td>\n",
              "      <td>1</td>\n",
              "      <td>1</td>\n",
              "      <td>0</td>\n",
              "      <td>1</td>\n",
              "      <td>0</td>\n",
              "      <td>1</td>\n",
              "    </tr>\n",
              "    <tr>\n",
              "      <th>2</th>\n",
              "      <td>12748.0</td>\n",
              "      <td>1</td>\n",
              "      <td>1</td>\n",
              "      <td>1</td>\n",
              "      <td>1</td>\n",
              "      <td>1</td>\n",
              "      <td>1</td>\n",
              "    </tr>\n",
              "    <tr>\n",
              "      <th>3</th>\n",
              "      <td>12749.0</td>\n",
              "      <td>0</td>\n",
              "      <td>0</td>\n",
              "      <td>0</td>\n",
              "      <td>0</td>\n",
              "      <td>0</td>\n",
              "      <td>1</td>\n",
              "    </tr>\n",
              "    <tr>\n",
              "      <th>4</th>\n",
              "      <td>12820.0</td>\n",
              "      <td>0</td>\n",
              "      <td>1</td>\n",
              "      <td>0</td>\n",
              "      <td>0</td>\n",
              "      <td>0</td>\n",
              "      <td>0</td>\n",
              "    </tr>\n",
              "  </tbody>\n",
              "</table>\n",
              "</div>"
            ],
            "text/plain": [
              "InvoiceYearMonth  CustomerID  201012  201101  201102  201103  201104  201105\n",
              "0                    12346.0       0       1       0       0       0       0\n",
              "1                    12747.0       1       1       0       1       0       1\n",
              "2                    12748.0       1       1       1       1       1       1\n",
              "3                    12749.0       0       0       0       0       0       1\n",
              "4                    12820.0       0       1       0       0       0       0"
            ]
          },
          "metadata": {
            "tags": []
          },
          "execution_count": 98
        }
      ]
    },
    {
      "cell_type": "code",
      "metadata": {
        "id": "5pRW2L3uxWKI",
        "colab_type": "code",
        "colab": {}
      },
      "source": [
        "months = tx_retention.columns[2:]"
      ],
      "execution_count": 0,
      "outputs": []
    },
    {
      "cell_type": "code",
      "metadata": {
        "id": "NOE2tkKPxY-F",
        "colab_type": "code",
        "outputId": "8cd03364-9dc9-4611-81f9-7d48fc143e66",
        "colab": {
          "base_uri": "https://localhost:8080/",
          "height": 34
        }
      },
      "source": [
        "months"
      ],
      "execution_count": 0,
      "outputs": [
        {
          "output_type": "execute_result",
          "data": {
            "text/plain": [
              "Index([201101, 201102, 201103, 201104, 201105], dtype='object', name='InvoiceYearMonth')"
            ]
          },
          "metadata": {
            "tags": []
          },
          "execution_count": 100
        }
      ]
    },
    {
      "cell_type": "code",
      "metadata": {
        "id": "ruBfRFpixgox",
        "colab_type": "code",
        "colab": {}
      },
      "source": [
        "retention_array = []\n",
        "for i in range(len(months)-1):\n",
        "    retention_data = {}\n",
        "    selected_month = months[i+1]\n",
        "    prev_month = months[i]\n",
        "    retention_data['InvoiceYearMonth'] = int(selected_month)\n",
        "    retention_data['TotalUserCount'] = tx_retention[selected_month].sum()\n",
        "    retention_data['RetainedUserCount'] = tx_retention[(tx_retention[selected_month]>0) & (tx_retention[prev_month]>0)][selected_month].sum()\n",
        "    retention_array.append(retention_data)"
      ],
      "execution_count": 0,
      "outputs": []
    },
    {
      "cell_type": "code",
      "metadata": {
        "id": "gP3yFiXVxks7",
        "colab_type": "code",
        "colab": {}
      },
      "source": [
        "tx_retention = pd.DataFrame(retention_array)"
      ],
      "execution_count": 0,
      "outputs": []
    },
    {
      "cell_type": "code",
      "metadata": {
        "id": "o2YLv0dPxmg3",
        "colab_type": "code",
        "outputId": "02ba089e-299f-4b5c-9381-e193fd497dbc",
        "colab": {
          "base_uri": "https://localhost:8080/",
          "height": 173
        }
      },
      "source": [
        "\n",
        "tx_retention.head()"
      ],
      "execution_count": 0,
      "outputs": [
        {
          "output_type": "execute_result",
          "data": {
            "text/html": [
              "<div>\n",
              "<style scoped>\n",
              "    .dataframe tbody tr th:only-of-type {\n",
              "        vertical-align: middle;\n",
              "    }\n",
              "\n",
              "    .dataframe tbody tr th {\n",
              "        vertical-align: top;\n",
              "    }\n",
              "\n",
              "    .dataframe thead th {\n",
              "        text-align: right;\n",
              "    }\n",
              "</style>\n",
              "<table border=\"1\" class=\"dataframe\">\n",
              "  <thead>\n",
              "    <tr style=\"text-align: right;\">\n",
              "      <th></th>\n",
              "      <th>InvoiceYearMonth</th>\n",
              "      <th>TotalUserCount</th>\n",
              "      <th>RetainedUserCount</th>\n",
              "    </tr>\n",
              "  </thead>\n",
              "  <tbody>\n",
              "    <tr>\n",
              "      <th>0</th>\n",
              "      <td>201102</td>\n",
              "      <td>714</td>\n",
              "      <td>263</td>\n",
              "    </tr>\n",
              "    <tr>\n",
              "      <th>1</th>\n",
              "      <td>201103</td>\n",
              "      <td>923</td>\n",
              "      <td>305</td>\n",
              "    </tr>\n",
              "    <tr>\n",
              "      <th>2</th>\n",
              "      <td>201104</td>\n",
              "      <td>817</td>\n",
              "      <td>310</td>\n",
              "    </tr>\n",
              "    <tr>\n",
              "      <th>3</th>\n",
              "      <td>201105</td>\n",
              "      <td>497</td>\n",
              "      <td>190</td>\n",
              "    </tr>\n",
              "  </tbody>\n",
              "</table>\n",
              "</div>"
            ],
            "text/plain": [
              "   InvoiceYearMonth  TotalUserCount  RetainedUserCount\n",
              "0            201102             714                263\n",
              "1            201103             923                305\n",
              "2            201104             817                310\n",
              "3            201105             497                190"
            ]
          },
          "metadata": {
            "tags": []
          },
          "execution_count": 103
        }
      ]
    },
    {
      "cell_type": "code",
      "metadata": {
        "id": "Jc4ou7Gtxq1-",
        "colab_type": "code",
        "colab": {}
      },
      "source": [
        "tx_retention['RetentionRate'] = tx_retention['RetainedUserCount']/tx_retention['TotalUserCount']"
      ],
      "execution_count": 0,
      "outputs": []
    },
    {
      "cell_type": "code",
      "metadata": {
        "id": "jUMeFH0Kxtj6",
        "colab_type": "code",
        "outputId": "216942f0-4b97-4eed-ff3c-e1616abc0844",
        "colab": {
          "base_uri": "https://localhost:8080/",
          "height": 173
        }
      },
      "source": [
        "tx_retention"
      ],
      "execution_count": 0,
      "outputs": [
        {
          "output_type": "execute_result",
          "data": {
            "text/html": [
              "<div>\n",
              "<style scoped>\n",
              "    .dataframe tbody tr th:only-of-type {\n",
              "        vertical-align: middle;\n",
              "    }\n",
              "\n",
              "    .dataframe tbody tr th {\n",
              "        vertical-align: top;\n",
              "    }\n",
              "\n",
              "    .dataframe thead th {\n",
              "        text-align: right;\n",
              "    }\n",
              "</style>\n",
              "<table border=\"1\" class=\"dataframe\">\n",
              "  <thead>\n",
              "    <tr style=\"text-align: right;\">\n",
              "      <th></th>\n",
              "      <th>InvoiceYearMonth</th>\n",
              "      <th>TotalUserCount</th>\n",
              "      <th>RetainedUserCount</th>\n",
              "      <th>RetentionRate</th>\n",
              "    </tr>\n",
              "  </thead>\n",
              "  <tbody>\n",
              "    <tr>\n",
              "      <th>0</th>\n",
              "      <td>201102</td>\n",
              "      <td>714</td>\n",
              "      <td>263</td>\n",
              "      <td>0.368347</td>\n",
              "    </tr>\n",
              "    <tr>\n",
              "      <th>1</th>\n",
              "      <td>201103</td>\n",
              "      <td>923</td>\n",
              "      <td>305</td>\n",
              "      <td>0.330444</td>\n",
              "    </tr>\n",
              "    <tr>\n",
              "      <th>2</th>\n",
              "      <td>201104</td>\n",
              "      <td>817</td>\n",
              "      <td>310</td>\n",
              "      <td>0.379437</td>\n",
              "    </tr>\n",
              "    <tr>\n",
              "      <th>3</th>\n",
              "      <td>201105</td>\n",
              "      <td>497</td>\n",
              "      <td>190</td>\n",
              "      <td>0.382294</td>\n",
              "    </tr>\n",
              "  </tbody>\n",
              "</table>\n",
              "</div>"
            ],
            "text/plain": [
              "   InvoiceYearMonth  TotalUserCount  RetainedUserCount  RetentionRate\n",
              "0            201102             714                263       0.368347\n",
              "1            201103             923                305       0.330444\n",
              "2            201104             817                310       0.379437\n",
              "3            201105             497                190       0.382294"
            ]
          },
          "metadata": {
            "tags": []
          },
          "execution_count": 105
        }
      ]
    },
    {
      "cell_type": "markdown",
      "metadata": {
        "id": "3DVxl_Z7xzQg",
        "colab_type": "text"
      },
      "source": [
        "**Churn Rate**"
      ]
    },
    {
      "cell_type": "code",
      "metadata": {
        "id": "0zVkPnA6x85B",
        "colab_type": "code",
        "colab": {}
      },
      "source": [
        "tx_retention['ChurnRate'] =  1- tx_retention['RetentionRate']"
      ],
      "execution_count": 0,
      "outputs": []
    },
    {
      "cell_type": "markdown",
      "metadata": {
        "id": "DdWaGQjryAZm",
        "colab_type": "text"
      },
      "source": [
        "**Cohort Base Retention**"
      ]
    },
    {
      "cell_type": "code",
      "metadata": {
        "id": "CQeTi0_hyB7i",
        "colab_type": "code",
        "colab": {}
      },
      "source": [
        "tx_retention = pd.crosstab(tx_user_purchase['CustomerID'], tx_user_purchase['InvoiceYearMonth']).reset_index()"
      ],
      "execution_count": 0,
      "outputs": []
    },
    {
      "cell_type": "code",
      "metadata": {
        "id": "ikVeiPhlyFNJ",
        "colab_type": "code",
        "outputId": "ec73b324-c830-4633-dcb7-c721d4695ed3",
        "colab": {
          "base_uri": "https://localhost:8080/",
          "height": 204
        }
      },
      "source": [
        "tx_retention.head()"
      ],
      "execution_count": 0,
      "outputs": [
        {
          "output_type": "execute_result",
          "data": {
            "text/html": [
              "<div>\n",
              "<style scoped>\n",
              "    .dataframe tbody tr th:only-of-type {\n",
              "        vertical-align: middle;\n",
              "    }\n",
              "\n",
              "    .dataframe tbody tr th {\n",
              "        vertical-align: top;\n",
              "    }\n",
              "\n",
              "    .dataframe thead th {\n",
              "        text-align: right;\n",
              "    }\n",
              "</style>\n",
              "<table border=\"1\" class=\"dataframe\">\n",
              "  <thead>\n",
              "    <tr style=\"text-align: right;\">\n",
              "      <th>InvoiceYearMonth</th>\n",
              "      <th>CustomerID</th>\n",
              "      <th>201012</th>\n",
              "      <th>201101</th>\n",
              "      <th>201102</th>\n",
              "      <th>201103</th>\n",
              "      <th>201104</th>\n",
              "      <th>201105</th>\n",
              "    </tr>\n",
              "  </thead>\n",
              "  <tbody>\n",
              "    <tr>\n",
              "      <th>0</th>\n",
              "      <td>12346.0</td>\n",
              "      <td>0</td>\n",
              "      <td>1</td>\n",
              "      <td>0</td>\n",
              "      <td>0</td>\n",
              "      <td>0</td>\n",
              "      <td>0</td>\n",
              "    </tr>\n",
              "    <tr>\n",
              "      <th>1</th>\n",
              "      <td>12747.0</td>\n",
              "      <td>1</td>\n",
              "      <td>1</td>\n",
              "      <td>0</td>\n",
              "      <td>1</td>\n",
              "      <td>0</td>\n",
              "      <td>1</td>\n",
              "    </tr>\n",
              "    <tr>\n",
              "      <th>2</th>\n",
              "      <td>12748.0</td>\n",
              "      <td>1</td>\n",
              "      <td>1</td>\n",
              "      <td>1</td>\n",
              "      <td>1</td>\n",
              "      <td>1</td>\n",
              "      <td>1</td>\n",
              "    </tr>\n",
              "    <tr>\n",
              "      <th>3</th>\n",
              "      <td>12749.0</td>\n",
              "      <td>0</td>\n",
              "      <td>0</td>\n",
              "      <td>0</td>\n",
              "      <td>0</td>\n",
              "      <td>0</td>\n",
              "      <td>1</td>\n",
              "    </tr>\n",
              "    <tr>\n",
              "      <th>4</th>\n",
              "      <td>12820.0</td>\n",
              "      <td>0</td>\n",
              "      <td>1</td>\n",
              "      <td>0</td>\n",
              "      <td>0</td>\n",
              "      <td>0</td>\n",
              "      <td>0</td>\n",
              "    </tr>\n",
              "  </tbody>\n",
              "</table>\n",
              "</div>"
            ],
            "text/plain": [
              "InvoiceYearMonth  CustomerID  201012  201101  201102  201103  201104  201105\n",
              "0                    12346.0       0       1       0       0       0       0\n",
              "1                    12747.0       1       1       0       1       0       1\n",
              "2                    12748.0       1       1       1       1       1       1\n",
              "3                    12749.0       0       0       0       0       0       1\n",
              "4                    12820.0       0       1       0       0       0       0"
            ]
          },
          "metadata": {
            "tags": []
          },
          "execution_count": 108
        }
      ]
    },
    {
      "cell_type": "code",
      "metadata": {
        "id": "efQmz54yyRZC",
        "colab_type": "code",
        "colab": {}
      },
      "source": [
        "new_column_names = [ 'm_' + str(column) for column in tx_retention.columns]"
      ],
      "execution_count": 0,
      "outputs": []
    },
    {
      "cell_type": "code",
      "metadata": {
        "id": "jwPpvnnoyT9v",
        "colab_type": "code",
        "colab": {}
      },
      "source": [
        "tx_retention.columns = new_column_names"
      ],
      "execution_count": 0,
      "outputs": []
    },
    {
      "cell_type": "code",
      "metadata": {
        "id": "LWRKqb8uyVwq",
        "colab_type": "code",
        "outputId": "bd91aa36-a4d8-4349-94d8-f70b6d53f925",
        "colab": {
          "base_uri": "https://localhost:8080/",
          "height": 34
        }
      },
      "source": [
        "months"
      ],
      "execution_count": 0,
      "outputs": [
        {
          "output_type": "execute_result",
          "data": {
            "text/plain": [
              "Index([201101, 201102, 201103, 201104, 201105], dtype='object', name='InvoiceYearMonth')"
            ]
          },
          "metadata": {
            "tags": []
          },
          "execution_count": 119
        }
      ]
    },
    {
      "cell_type": "code",
      "metadata": {
        "id": "4wk8fJKoyfNG",
        "colab_type": "code",
        "colab": {}
      },
      "source": [
        "retention_array = []\n",
        "for i in range(len(months)):\n",
        "    retention_data = {}\n",
        "    selected_month = months[i]\n",
        "    prev_months = months[:i]\n",
        "    next_months = months[i+1:]\n",
        "    for prev_month in prev_months:\n",
        "        retention_data[prev_month] = np.nan\n",
        "        \n",
        "    total_user_count =  retention_data['TotalUserCount'] = tx_retention['m_' + str(selected_month)].sum()\n",
        "    retention_data[selected_month] = 1 \n",
        "    \n",
        "    query = \"{} > 0\".format('m_' + str(selected_month))\n",
        "    \n",
        "\n",
        "    for next_month in next_months:\n",
        "        query = query + \" and {} > 0\".format(str('m_' + str(next_month)))\n",
        "        retention_data[next_month] = np.round(tx_retention.query(query)['m_' + str(next_month)].sum()/total_user_count,2)\n",
        "    retention_array.append(retention_data)"
      ],
      "execution_count": 0,
      "outputs": []
    },
    {
      "cell_type": "code",
      "metadata": {
        "id": "k8PCrLOCyhjE",
        "colab_type": "code",
        "colab": {}
      },
      "source": [
        "tx_retention = pd.DataFrame(retention_array)"
      ],
      "execution_count": 0,
      "outputs": []
    },
    {
      "cell_type": "code",
      "metadata": {
        "id": "O92mPPTHykDM",
        "colab_type": "code",
        "outputId": "947b9e63-69bd-4469-99d0-98eb2c48cd42",
        "colab": {
          "base_uri": "https://localhost:8080/",
          "height": 34
        }
      },
      "source": [
        "len(months)"
      ],
      "execution_count": 0,
      "outputs": [
        {
          "output_type": "execute_result",
          "data": {
            "text/plain": [
              "5"
            ]
          },
          "metadata": {
            "tags": []
          },
          "execution_count": 122
        }
      ]
    },
    {
      "cell_type": "code",
      "metadata": {
        "id": "NA--MkYCyvbK",
        "colab_type": "code",
        "colab": {}
      },
      "source": [
        "tx_retention.index = months"
      ],
      "execution_count": 0,
      "outputs": []
    },
    {
      "cell_type": "code",
      "metadata": {
        "id": "lJBlcpb3yyyR",
        "colab_type": "code",
        "outputId": "c82f0c7b-ed6f-44d7-f358-4ff6b3f1ee81",
        "colab": {
          "base_uri": "https://localhost:8080/",
          "height": 235
        }
      },
      "source": [
        "tx_retention"
      ],
      "execution_count": 0,
      "outputs": [
        {
          "output_type": "execute_result",
          "data": {
            "text/html": [
              "<div>\n",
              "<style scoped>\n",
              "    .dataframe tbody tr th:only-of-type {\n",
              "        vertical-align: middle;\n",
              "    }\n",
              "\n",
              "    .dataframe tbody tr th {\n",
              "        vertical-align: top;\n",
              "    }\n",
              "\n",
              "    .dataframe thead th {\n",
              "        text-align: right;\n",
              "    }\n",
              "</style>\n",
              "<table border=\"1\" class=\"dataframe\">\n",
              "  <thead>\n",
              "    <tr style=\"text-align: right;\">\n",
              "      <th></th>\n",
              "      <th>TotalUserCount</th>\n",
              "      <th>201101</th>\n",
              "      <th>201102</th>\n",
              "      <th>201103</th>\n",
              "      <th>201104</th>\n",
              "      <th>201105</th>\n",
              "    </tr>\n",
              "    <tr>\n",
              "      <th>InvoiceYearMonth</th>\n",
              "      <th></th>\n",
              "      <th></th>\n",
              "      <th></th>\n",
              "      <th></th>\n",
              "      <th></th>\n",
              "      <th></th>\n",
              "    </tr>\n",
              "  </thead>\n",
              "  <tbody>\n",
              "    <tr>\n",
              "      <th>201101</th>\n",
              "      <td>1.00</td>\n",
              "      <td>1.0</td>\n",
              "      <td>0.38</td>\n",
              "      <td>0.26</td>\n",
              "      <td>0.18</td>\n",
              "      <td>0.10</td>\n",
              "    </tr>\n",
              "    <tr>\n",
              "      <th>201102</th>\n",
              "      <td>1.38</td>\n",
              "      <td>NaN</td>\n",
              "      <td>1.00</td>\n",
              "      <td>0.50</td>\n",
              "      <td>0.30</td>\n",
              "      <td>0.15</td>\n",
              "    </tr>\n",
              "    <tr>\n",
              "      <th>201103</th>\n",
              "      <td>1.69</td>\n",
              "      <td>NaN</td>\n",
              "      <td>NaN</td>\n",
              "      <td>1.00</td>\n",
              "      <td>0.44</td>\n",
              "      <td>0.20</td>\n",
              "    </tr>\n",
              "    <tr>\n",
              "      <th>201104</th>\n",
              "      <td>1.75</td>\n",
              "      <td>NaN</td>\n",
              "      <td>NaN</td>\n",
              "      <td>NaN</td>\n",
              "      <td>1.00</td>\n",
              "      <td>0.33</td>\n",
              "    </tr>\n",
              "    <tr>\n",
              "      <th>201105</th>\n",
              "      <td>1.57</td>\n",
              "      <td>NaN</td>\n",
              "      <td>NaN</td>\n",
              "      <td>NaN</td>\n",
              "      <td>NaN</td>\n",
              "      <td>1.00</td>\n",
              "    </tr>\n",
              "  </tbody>\n",
              "</table>\n",
              "</div>"
            ],
            "text/plain": [
              "                  TotalUserCount  201101  201102  201103  201104  201105\n",
              "InvoiceYearMonth                                                        \n",
              "201101                      1.00     1.0    0.38    0.26    0.18    0.10\n",
              "201102                      1.38     NaN    1.00    0.50    0.30    0.15\n",
              "201103                      1.69     NaN     NaN    1.00    0.44    0.20\n",
              "201104                      1.75     NaN     NaN     NaN    1.00    0.33\n",
              "201105                      1.57     NaN     NaN     NaN     NaN    1.00"
            ]
          },
          "metadata": {
            "tags": []
          },
          "execution_count": 124
        }
      ]
    }
  ]
}